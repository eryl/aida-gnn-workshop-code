{
 "cells": [
  {
   "cell_type": "markdown",
   "metadata": {},
   "source": [
    "# Building the neural network\n",
    "\n",
    "We've now done the lions share of the work - converting the data we have into a graph dataset which can be fed into a neural network. We're now ready to implement our model. We will pose this problem as classification problem where the goal is to correctly classify the ISUP Grade.\n"
   ]
  },
  {
   "cell_type": "markdown",
   "metadata": {},
   "source": [
    "### The dataset\n",
    "\n",
    "While pytorch support using a list of `Data` objects for input to its specialized DataLoader, we can get convenient features such as caching of the processed results by using the `Dataset` class in Pytorch Geometric. This class has an interface with some functions which we will overwrite with the code we defined above."
   ]
  },
  {
   "cell_type": "code",
   "execution_count": null,
   "metadata": {},
   "outputs": [],
   "source": [
    "from pathlib import Path\n",
    "import zipfile\n",
    "from io import StringIO, BytesIO\n",
    "import multiprocessing\n",
    "from collections import Counter\n",
    "from typing import Sequence, Literal, Optional\n",
    "import copy\n",
    "import json\n",
    "\n",
    "import torch\n",
    "import torch_geometric\n",
    "from torch_geometric.data import InMemoryDataset, download_url, Data\n",
    "from torch_geometric.data.dataset import IndexType\n",
    "from tqdm.notebook import tqdm\n",
    "import pandas as pd\n",
    "import numpy as np\n",
    "from scipy.spatial import cKDTree\n",
    "\n",
    "\n",
    "GEOJSON_DIRECTORY = 'cell_detection.geojson'\n",
    "LABEL_COLUMN = 'isup_grade'\n",
    "ID_COLUMN = 'image_id'\n",
    "MPP = 0.48\n",
    "RADIUS_MICRONS = 20\n",
    "RADIUS = RADIUS_MICRONS / MPP\n",
    "\n",
    "\n",
    "class PANDaGraphDataset(InMemoryDataset):\n",
    "    data_url = 'https://github.com/eryl/aida-gnn-workshop-code/releases/download/PANDa_workshop_data_v1/PANDa_{}.zip'\n",
    "    data_split = ''\n",
    "    \n",
    "    def __init__(self, root, transform=None, pre_transform=None, pre_filter=None):\n",
    "        super().__init__(root, transform, pre_transform, pre_filter)\n",
    "        self.data, self.slices, self.node_type_map = torch.load(self.processed_paths[0])\n",
    "    \n",
    "    @property\n",
    "    def raw_file_names(self):\n",
    "        return [f'PANDa_{self.data_split}.zip']\n",
    "\n",
    "    @property\n",
    "    def processed_file_names(self):\n",
    "        return [f'PANDa_{self.data_split}.pt']\n",
    "\n",
    "    def download(self):\n",
    "        # Download to `self.raw_dir`.\n",
    "        url = self.data_url.format(self.data_split)\n",
    "        download_url(url, self.raw_dir)\n",
    "\n",
    "    def _transpose_geojson(self, geojson_obj):\n",
    "        node_positions = []\n",
    "        node_types = []\n",
    "        for feature_obj in geojson_obj:\n",
    "            if feature_obj.get('type') == 'Feature':\n",
    "                feature_coordinates = feature_obj['geometry']['coordinates']\n",
    "                node_positions.extend(feature_coordinates)\n",
    "                feature_labels = [feature_obj['properties']['classification']['name']]*len(feature_coordinates)\n",
    "                node_types.extend(feature_labels)\n",
    "        return np.array(node_positions), node_types\n",
    "\n",
    "    def _create_edges(self, node_positions, radius=RADIUS):\n",
    "        spatial_index = cKDTree(node_positions)\n",
    "        sparse_distances = spatial_index.sparse_distance_matrix(spatial_index, radius, output_type='coo_matrix')\n",
    "        sparse_distances.eliminate_zeros()  # We eliminate all zeros from the matrix, we don't want self-loops\n",
    "        pair_indices = np.stack([sparse_distances.row, sparse_distances.col], axis=0)\n",
    "        distances = np.copy(sparse_distances.data)\n",
    "        return pair_indices, distances\n",
    "\n",
    "    def _convert_geojson_to_graph(self, geojson_string):\n",
    "        geojson_object = json.loads(geojson_string)\n",
    "        node_positions, node_classes = self._transpose_geojson(geojson_object)\n",
    "        edges, distances = self._create_edges(node_positions)\n",
    "        return {'edges': edges, 'edge_distance': distances, 'node_positions': node_positions, 'node_types': node_classes}\n",
    "\n",
    "    def _read_geojson_archive(self):\n",
    "        LABEL_COLUMN = 'isup_grade'\n",
    "        ID_COLUMN = 'image_id'  \n",
    "        graphs = dict()\n",
    "\n",
    "        for filename in self.raw_file_names:\n",
    "            file_path = Path(self.raw_dir) / filename\n",
    "            with zipfile.ZipFile(file_path) as zf:\n",
    "                graphs = dict()\n",
    "                csv_file = None\n",
    "                for name in tqdm(zf.namelist(), desc=\"Creating graph data\"):\n",
    "                    if GEOJSON_DIRECTORY in name:\n",
    "                        *_, image_id = name.split('/')\n",
    "                        geojson_string = zf.read(name)\n",
    "                        graph_data = self._convert_geojson_to_graph(geojson_string)\n",
    "                        graph_data['image_id'] = image_id\n",
    "                        graphs[image_id] = graph_data\n",
    "                    elif '.csv' in name:\n",
    "                        csv_string = zf.read(name)\n",
    "                        csv_io = BytesIO(csv_string)\n",
    "                        csv_file = pd.read_csv(csv_io)\n",
    "                        \n",
    "                if csv_file is None:\n",
    "                    raise RuntimeError(\"No csv file in archive\")\n",
    "                else:\n",
    "                    for row in csv_file.to_dict('records'):\n",
    "                        image_id = row[ID_COLUMN]\n",
    "                        if image_id in graphs:\n",
    "                            label = row[LABEL_COLUMN]\n",
    "                            graphs[image_id]['label'] = label \n",
    "        return graphs\n",
    "    \n",
    "    def _convert_node_types_inplace(self, graphs):\n",
    "        node_types = set()\n",
    "        for graph in graphs.values():\n",
    "            node_types.update(graph['node_types'])\n",
    "        node_type_map = {node_type: i for i,node_type in enumerate(sorted(node_types))}\n",
    "        for graph in graphs.values():\n",
    "            node_types = graph['node_types']\n",
    "            node_types = torch.tensor([node_type_map[node_type] for node_type in node_types])\n",
    "            graph['node_types'] = node_types\n",
    "        return node_type_map\n",
    "\n",
    "    def _convert_to_pyg_data(self, graph):\n",
    "        x=graph['node_types']\n",
    "        edge_index=torch.tensor(graph['edges'])\n",
    "        edge_attr=torch.tensor(graph['edge_distance'])\n",
    "        y=graph['label']\n",
    "        pos=torch.tensor(graph['node_positions'])\n",
    "        return Data(x=x, edge_index=edge_index, edge_attr=edge_attr, y=y, pos=pos)\n",
    "\n",
    "    def process(self):\n",
    "        # Read data huge `Data` list.\n",
    "        graphs = self._read_geojson_archive()\n",
    "        node_type_map = self._convert_node_types_inplace(graphs)\n",
    "\n",
    "        data_list = [self._convert_to_pyg_data(graph) for graph in tqdm(graphs.values(), desc=\"Converting graphs\")]\n",
    "\n",
    "        if self.pre_filter is not None:\n",
    "            data_list = [data for data in data_list if self.pre_filter(data)]\n",
    "\n",
    "        if self.pre_transform is not None:\n",
    "            data_list = [self.pre_transform(data) for data in data_list]\n",
    "\n",
    "        data, slices = self.collate(data_list)\n",
    "        torch.save((data, slices, node_type_map), self.processed_paths[0])\n",
    "\n",
    "    \n",
    "class PANDaGraphDatasetTrain(PANDaGraphDataset):\n",
    "    data_split = 'train'\n",
    "\n",
    "class PANDaGraphDatasetDev(PANDaGraphDataset):\n",
    "    data_split = 'dev'\n",
    "\n",
    "class PANDaGraphDatasetTest(PANDaGraphDataset):\n",
    "    data_split = 'test'\n"
   ]
  },
  {
   "cell_type": "code",
   "execution_count": null,
   "metadata": {},
   "outputs": [],
   "source": [
    "train_dataset = PANDaGraphDatasetTrain('../datasets/PANDa')\n",
    "test_dataset = PANDaGraphDatasetTest('../datasets/PANDa')\n",
    "dev_dataset = PANDaGraphDatasetDev('../datasets/PANDa')"
   ]
  },
  {
   "cell_type": "code",
   "execution_count": null,
   "metadata": {},
   "outputs": [
    {
     "data": {
      "text/plain": [
       "PANDaGraphDatasetTrain(1596)"
      ]
     },
     "metadata": {},
     "output_type": "display_data"
    }
   ],
   "source": [
    "train_dataset"
   ]
  },
  {
   "cell_type": "markdown",
   "metadata": {},
   "source": [
    "### DataLoaders\n",
    "\n",
    "Pytorch Geometric has its own dataloaders. It allows for efficient batching of graphs by using the fact that all of the PyG operations rely on sparse implementations. By taking all graphs and essentially putting them into on large batch graph, the algorithms dont have to keep special track of batch examples as long as the operations are restricted to follow the graph structure."
   ]
  },
  {
   "cell_type": "code",
   "execution_count": null,
   "metadata": {},
   "outputs": [],
   "source": [
    "from torch_geometric.loader import DataLoader\n",
    "batch_size = 32\n",
    "train_dataloader = DataLoader(train_dataset, batch_size=batch_size, drop_last=False, shuffle=True, num_workers=4)\n",
    "dev_dataloader = DataLoader(dev_dataset, batch_size=batch_size, drop_last=False, shuffle=False, num_workers=4)\n"
   ]
  },
  {
   "cell_type": "markdown",
   "metadata": {},
   "source": [
    "## Predefined models\n",
    "\n",
    "We can build a GNN using the pre-existing [models](https://pytorch-geometric.readthedocs.io/en/latest/modules/nn.html#models) in Pytorch Geometric. These implements a handful of successful models from the litterature. We will look use the updated Graph Attention Networks from [“How Attentive are Graph Attention Networks?”](https://arxiv.org/abs/2105.14491).\n",
    "Below is a the signature of the constructur and an explanation of the arguments:\n",
    "\n",
    "```python\n",
    "class GAT(in_channels: int, hidden_channels: int, num_layers: int, out_channels: Optional[int] = None, dropout: float = 0.0, act: Optional[Union[str, Callable]] = 'relu', act_first: bool = False, act_kwargs: Optional[Dict[str, Any]] = None, norm: Optional[Union[str, Callable]] = None, norm_kwargs: Optional[Dict[str, Any]] = None, jk: Optional[str] = None, **kwargs)\n",
    "```\n",
    "\n",
    " - **in_channels** (int or tuple) – Size of each input sample, or -1 to derive the size from the first input(s) to the forward method. A tuple corresponds to the sizes of source and target dimensionalities.\n",
    " - **hidden_channels** (int) – Size of each hidden sample.\n",
    " - **num_layers** (int) – Number of message passing layers.\n",
    " - **out_channels** (int, optional) – If not set to None, will apply a final linear transformation to convert hidden node embeddings to output size out_channels. (default: None)\n",
    " - **v2** (bool, optional) – If set to True, will make use of GATv2Conv rather than GATConv. (default: False)\n",
    " - **dropout** (float, optional) – Dropout probability. (default: 0.)\n",
    " - **act** (str or Callable, optional) – The non-linear activation function to use. (default: \"relu\")\n",
    " - **act_first** (bool, optional) – If set to True, activation is applied before normalization. (default: False)\n",
    " - **act_kwargs** (Dict[str, Any], optional) – Arguments passed to the respective activation function defined by act. (default: None)\n",
    " - **norm** (str or Callable, optional) – The normalization function to use. (default: None)\n",
    " - **norm_kwargs** (Dict[str, Any], optional) – Arguments passed to the respective normalization function defined by norm. (default: None)\n",
    " - **jk** (str, optional) – The Jumping Knowledge mode. If specified, the model will additionally apply a final linear transformation to transform node embeddings to the expected output feature dimensionality. (None, \"last\", \"cat\", \"max\", \"lstm\"). (default: None)\n",
    " - ****kwargs** (optional) – Additional arguments of conv.GATConv or conv.GATv2Conv.\n",
    "\n",
    "We will create a separate configuration class which encapsulates the important arguments of this class. Many of arguments are shared between different prebuilt models, and you can experiment with replacing the GAT class with some other (e.g. GIN or GCN)."
   ]
  },
  {
   "cell_type": "code",
   "execution_count": null,
   "metadata": {},
   "outputs": [],
   "source": [
    "from dataclasses import dataclass\n",
    "from typing import Type\n",
    "\n",
    "import torch\n",
    "#import lightning.pytorch as pl\n",
    "from torch_geometric.nn import global_mean_pool\n",
    "\n",
    "\n",
    "@dataclass\n",
    "class PANDaGATConfig:\n",
    "    d_model: int\n",
    "    n_layers: int\n",
    "    dropout_rate: float\n",
    "\n",
    "\n",
    "class LightningPANDaGAT(torch.nn.Module):\n",
    "    def __init__(self, node_type_map, num_classes, config: PANDaGATConfig):\n",
    "        super().__init__()\n",
    "        self.node_type_map = node_type_map\n",
    "        self.config = config\n",
    "        self.num_classes = num_classes\n",
    "        \n",
    "        self.node_type_embedding = torch.nn.Embedding(len(node_type_map), config.d_model)\n",
    "        self.gnn_encoder = torch_geometric.nn.GCN(in_channels=config.d_model, \n",
    "                                                  hidden_channels=config.d_model, \n",
    "                                                  num_layers=config.n_layers, \n",
    "                                                  dropout=config.dropout_rate, \n",
    "                                                  norm=None, # Adding a layer norm might be useful\n",
    "                                                  norm_kwargs=None)\n",
    "        self.output_head = torch.nn.Sequential(torch.nn.Linear(config.d_model, config.d_model), \n",
    "                                               torch.nn.ReLU(), \n",
    "                                               torch.nn.Dropout(config.dropout_rate), \n",
    "                                               torch.nn.Linear(config.d_model, num_classes))\n",
    "\n",
    "    def forward(self, batch):\n",
    "        # X contains our node attributes. In our case it's the classes assigned to each node. We need to embed them first:\n",
    "        x = self.node_type_embedding(batch.x)\n",
    "        x = self.gnn_encoder(x=x, edge_index=batch.edge_index)\n",
    "        x = global_mean_pool(x, batch.batch)\n",
    "        \n",
    "        predictions = self.output_head(x)\n",
    "\n",
    "        return predictions\n",
    "\n",
    "    def loss_on_batch(self, batch):\n",
    "        target = batch.y\n",
    "\n",
    "        predictions = self(batch)\n",
    "        loss = torch.nn.functional.cross_entropy(predictions, target)\n",
    "\n",
    "        return loss\n",
    "    \n",
    "    def loss_and_acc_on_batch(self, batch):\n",
    "        target = batch.y\n",
    "\n",
    "        predictions = self(batch)\n",
    "        loss = torch.nn.functional.cross_entropy(predictions, target)\n",
    "\n",
    "        correct_predictions = predictions.detach().argmax(dim=-1) == target\n",
    "        accuracy = torch.mean(correct_predictions.to(dtype=torch.float)).item()\n",
    "\n",
    "        return loss, accuracy\n",
    "    \n",
    "    def training_step(self, batch, batch_idx):\n",
    "        # training_step defines the train loop.\n",
    "        training_loss = self.loss_on_batch(batch)\n",
    "        return training_loss\n",
    "\n",
    "    def configure_optimizers(self):\n",
    "        optimizer = torch.optim.AdamW(self.parameters(), lr=1e-3)\n",
    "        return optimizer\n",
    "\n",
    "    def test_step(self, batch, batch_idx):\n",
    "        # this is the test loop\n",
    "        test_loss = self.loss_on_batch(batch).item()\n",
    "        #self.log(\"test_loss\", test_loss)\n",
    "        return test_loss\n",
    "\n",
    "    def validation_step(self, batch, batch_idx):\n",
    "        # this is the dev/validation loop\n",
    "        val_loss, accuracy = self.loss_and_acc_on_batch(batch)\n",
    "        #self.log(\"val_loss\", val_loss.item())\n",
    "        #self.log(\"val_accuracy\", accuracy)\n",
    "        return val_loss\n",
    "\n",
    "    def predict_step(self, batch, batch_idx):\n",
    "        targets = batch.y\n",
    "        predictions = self(batch)\n",
    "\n",
    "        return (predictions.detach().argmax(dim=-1), targets)\n",
    "        \n",
    "\n"
   ]
  },
  {
   "cell_type": "code",
   "execution_count": null,
   "metadata": {},
   "outputs": [
    {
     "data": {
      "text/plain": [
       "LightningPANDaGAT(\n",
       "  (node_type_embedding): Embedding(5, 32)\n",
       "  (gnn_encoder): GCN(32, 32, num_layers=4)\n",
       "  (output_head): Sequential(\n",
       "    (0): Linear(in_features=32, out_features=32, bias=True)\n",
       "    (1): ReLU()\n",
       "    (2): Dropout(p=0.1, inplace=False)\n",
       "    (3): Linear(in_features=32, out_features=6, bias=True)\n",
       "  )\n",
       ")"
      ]
     },
     "metadata": {},
     "output_type": "display_data"
    }
   ],
   "source": [
    "import torch_geometric\n",
    "\n",
    "d_model = 32\n",
    "\n",
    "gnn_config = PANDaGATConfig(\n",
    "    d_model=d_model,\n",
    "    n_layers=4,\n",
    "    dropout_rate=0.1,\n",
    ")\n",
    "num_classes = train_dataset.num_classes\n",
    "\n",
    "model = LightningPANDaGAT(train_dataset.node_type_map, num_classes, gnn_config)\n",
    "\n",
    "device = torch.device('cuda')\n",
    "model.to(device)"
   ]
  },
  {
   "cell_type": "code",
   "execution_count": null,
   "metadata": {},
   "outputs": [
    {
     "data": {
      "application/vnd.jupyter.widget-view+json": {
       "model_id": "b69a3280efbd42fab5e4c0bcc397dc69",
       "version_major": 2,
       "version_minor": 0
      },
      "text/plain": [
       "Epoch:   0%|          | 0/10 [00:00<?, ?it/s]"
      ]
     },
     "metadata": {},
     "output_type": "display_data"
    },
    {
     "data": {
      "application/vnd.jupyter.widget-view+json": {
       "model_id": "cb143c1bd28f42d48ff2df79f86f3afc",
       "version_major": 2,
       "version_minor": 0
      },
      "text/plain": [
       "Training batch:   0%|          | 0/200 [00:00<?, ?it/s]"
      ]
     },
     "metadata": {},
     "output_type": "display_data"
    },
    {
     "data": {
      "application/vnd.jupyter.widget-view+json": {
       "model_id": "a480a273eea746f8b931942db0da58e1",
       "version_major": 2,
       "version_minor": 0
      },
      "text/plain": [
       "Dev batch:   0%|          | 0/25 [00:00<?, ?it/s]"
      ]
     },
     "metadata": {},
     "output_type": "display_data"
    },
    {
     "ename": "KeyboardInterrupt",
     "evalue": "",
     "output_type": "error",
     "traceback": [
      "\u001b[0;31m---------------------------------------------------------------------------\u001b[0m\n",
      "\u001b[0;31mKeyboardInterrupt\u001b[0m                         Traceback (most recent call last)\n",
      "Cell \u001b[0;32mIn[75], line 9\u001b[0m\n",
      "\u001b[1;32m      7\u001b[0m dev_pbar \u001b[39m=\u001b[39m tqdm(total\u001b[39m=\u001b[39m\u001b[39mlen\u001b[39m(dev_dataloader), desc\u001b[39m=\u001b[39m\u001b[39m'\u001b[39m\u001b[39mDev batch\u001b[39m\u001b[39m'\u001b[39m, leave\u001b[39m=\u001b[39m\u001b[39mTrue\u001b[39;00m)\n",
      "\u001b[1;32m      8\u001b[0m \u001b[39mfor\u001b[39;00m epoch \u001b[39min\u001b[39;00m \u001b[39mrange\u001b[39m(max_epochs):\n",
      "\u001b[0;32m----> 9\u001b[0m     \u001b[39mfor\u001b[39;00m i,batch \u001b[39min\u001b[39;00m \u001b[39menumerate\u001b[39m(train_dataloader):\n",
      "\u001b[1;32m     10\u001b[0m         optimizer\u001b[39m.\u001b[39mzero_grad()\n",
      "\u001b[1;32m     11\u001b[0m         loss \u001b[39m=\u001b[39m model\u001b[39m.\u001b[39mtraining_step(batch\u001b[39m.\u001b[39mto(device), i)\n",
      "\n",
      "File \u001b[0;32m~/mambaforge/envs/aida_workshop_gnn/lib/python3.9/site-packages/torch/utils/data/dataloader.py:633\u001b[0m, in \u001b[0;36m_BaseDataLoaderIter.__next__\u001b[0;34m(self)\u001b[0m\n",
      "\u001b[1;32m    630\u001b[0m \u001b[39mif\u001b[39;00m \u001b[39mself\u001b[39m\u001b[39m.\u001b[39m_sampler_iter \u001b[39mis\u001b[39;00m \u001b[39mNone\u001b[39;00m:\n",
      "\u001b[1;32m    631\u001b[0m     \u001b[39m# TODO(https://github.com/pytorch/pytorch/issues/76750)\u001b[39;00m\n",
      "\u001b[1;32m    632\u001b[0m     \u001b[39mself\u001b[39m\u001b[39m.\u001b[39m_reset()  \u001b[39m# type: ignore[call-arg]\u001b[39;00m\n",
      "\u001b[0;32m--> 633\u001b[0m data \u001b[39m=\u001b[39m \u001b[39mself\u001b[39;49m\u001b[39m.\u001b[39;49m_next_data()\n",
      "\u001b[1;32m    634\u001b[0m \u001b[39mself\u001b[39m\u001b[39m.\u001b[39m_num_yielded \u001b[39m+\u001b[39m\u001b[39m=\u001b[39m \u001b[39m1\u001b[39m\n",
      "\u001b[1;32m    635\u001b[0m \u001b[39mif\u001b[39;00m \u001b[39mself\u001b[39m\u001b[39m.\u001b[39m_dataset_kind \u001b[39m==\u001b[39m _DatasetKind\u001b[39m.\u001b[39mIterable \u001b[39mand\u001b[39;00m \\\n",
      "\u001b[1;32m    636\u001b[0m         \u001b[39mself\u001b[39m\u001b[39m.\u001b[39m_IterableDataset_len_called \u001b[39mis\u001b[39;00m \u001b[39mnot\u001b[39;00m \u001b[39mNone\u001b[39;00m \u001b[39mand\u001b[39;00m \\\n",
      "\u001b[1;32m    637\u001b[0m         \u001b[39mself\u001b[39m\u001b[39m.\u001b[39m_num_yielded \u001b[39m>\u001b[39m \u001b[39mself\u001b[39m\u001b[39m.\u001b[39m_IterableDataset_len_called:\n",
      "\n",
      "File \u001b[0;32m~/mambaforge/envs/aida_workshop_gnn/lib/python3.9/site-packages/torch/utils/data/dataloader.py:1328\u001b[0m, in \u001b[0;36m_MultiProcessingDataLoaderIter._next_data\u001b[0;34m(self)\u001b[0m\n",
      "\u001b[1;32m   1325\u001b[0m     \u001b[39mreturn\u001b[39;00m \u001b[39mself\u001b[39m\u001b[39m.\u001b[39m_process_data(data)\n",
      "\u001b[1;32m   1327\u001b[0m \u001b[39massert\u001b[39;00m \u001b[39mnot\u001b[39;00m \u001b[39mself\u001b[39m\u001b[39m.\u001b[39m_shutdown \u001b[39mand\u001b[39;00m \u001b[39mself\u001b[39m\u001b[39m.\u001b[39m_tasks_outstanding \u001b[39m>\u001b[39m \u001b[39m0\u001b[39m\n",
      "\u001b[0;32m-> 1328\u001b[0m idx, data \u001b[39m=\u001b[39m \u001b[39mself\u001b[39;49m\u001b[39m.\u001b[39;49m_get_data()\n",
      "\u001b[1;32m   1329\u001b[0m \u001b[39mself\u001b[39m\u001b[39m.\u001b[39m_tasks_outstanding \u001b[39m-\u001b[39m\u001b[39m=\u001b[39m \u001b[39m1\u001b[39m\n",
      "\u001b[1;32m   1330\u001b[0m \u001b[39mif\u001b[39;00m \u001b[39mself\u001b[39m\u001b[39m.\u001b[39m_dataset_kind \u001b[39m==\u001b[39m _DatasetKind\u001b[39m.\u001b[39mIterable:\n",
      "\u001b[1;32m   1331\u001b[0m     \u001b[39m# Check for _IterableDatasetStopIteration\u001b[39;00m\n",
      "\n",
      "File \u001b[0;32m~/mambaforge/envs/aida_workshop_gnn/lib/python3.9/site-packages/torch/utils/data/dataloader.py:1294\u001b[0m, in \u001b[0;36m_MultiProcessingDataLoaderIter._get_data\u001b[0;34m(self)\u001b[0m\n",
      "\u001b[1;32m   1290\u001b[0m     \u001b[39m# In this case, `self._data_queue` is a `queue.Queue`,. But we don't\u001b[39;00m\n",
      "\u001b[1;32m   1291\u001b[0m     \u001b[39m# need to call `.task_done()` because we don't use `.join()`.\u001b[39;00m\n",
      "\u001b[1;32m   1292\u001b[0m \u001b[39melse\u001b[39;00m:\n",
      "\u001b[1;32m   1293\u001b[0m     \u001b[39mwhile\u001b[39;00m \u001b[39mTrue\u001b[39;00m:\n",
      "\u001b[0;32m-> 1294\u001b[0m         success, data \u001b[39m=\u001b[39m \u001b[39mself\u001b[39;49m\u001b[39m.\u001b[39;49m_try_get_data()\n",
      "\u001b[1;32m   1295\u001b[0m         \u001b[39mif\u001b[39;00m success:\n",
      "\u001b[1;32m   1296\u001b[0m             \u001b[39mreturn\u001b[39;00m data\n",
      "\n",
      "File \u001b[0;32m~/mambaforge/envs/aida_workshop_gnn/lib/python3.9/site-packages/torch/utils/data/dataloader.py:1132\u001b[0m, in \u001b[0;36m_MultiProcessingDataLoaderIter._try_get_data\u001b[0;34m(self, timeout)\u001b[0m\n",
      "\u001b[1;32m   1119\u001b[0m \u001b[39mdef\u001b[39;00m \u001b[39m_try_get_data\u001b[39m(\u001b[39mself\u001b[39m, timeout\u001b[39m=\u001b[39m_utils\u001b[39m.\u001b[39mMP_STATUS_CHECK_INTERVAL):\n",
      "\u001b[1;32m   1120\u001b[0m     \u001b[39m# Tries to fetch data from `self._data_queue` once for a given timeout.\u001b[39;00m\n",
      "\u001b[1;32m   1121\u001b[0m     \u001b[39m# This can also be used as inner loop of fetching without timeout, with\u001b[39;00m\n",
      "\u001b[0;32m   (...)\u001b[0m\n",
      "\u001b[1;32m   1129\u001b[0m     \u001b[39m# Returns a 2-tuple:\u001b[39;00m\n",
      "\u001b[1;32m   1130\u001b[0m     \u001b[39m#   (bool: whether successfully get data, any: data if successful else None)\u001b[39;00m\n",
      "\u001b[1;32m   1131\u001b[0m     \u001b[39mtry\u001b[39;00m:\n",
      "\u001b[0;32m-> 1132\u001b[0m         data \u001b[39m=\u001b[39m \u001b[39mself\u001b[39;49m\u001b[39m.\u001b[39;49m_data_queue\u001b[39m.\u001b[39;49mget(timeout\u001b[39m=\u001b[39;49mtimeout)\n",
      "\u001b[1;32m   1133\u001b[0m         \u001b[39mreturn\u001b[39;00m (\u001b[39mTrue\u001b[39;00m, data)\n",
      "\u001b[1;32m   1134\u001b[0m     \u001b[39mexcept\u001b[39;00m \u001b[39mException\u001b[39;00m \u001b[39mas\u001b[39;00m e:\n",
      "\u001b[1;32m   1135\u001b[0m         \u001b[39m# At timeout and error, we manually check whether any worker has\u001b[39;00m\n",
      "\u001b[1;32m   1136\u001b[0m         \u001b[39m# failed. Note that this is the only mechanism for Windows to detect\u001b[39;00m\n",
      "\u001b[1;32m   1137\u001b[0m         \u001b[39m# worker failures.\u001b[39;00m\n",
      "\n",
      "File \u001b[0;32m~/mambaforge/envs/aida_workshop_gnn/lib/python3.9/multiprocessing/queues.py:113\u001b[0m, in \u001b[0;36mQueue.get\u001b[0;34m(self, block, timeout)\u001b[0m\n",
      "\u001b[1;32m    111\u001b[0m \u001b[39mif\u001b[39;00m block:\n",
      "\u001b[1;32m    112\u001b[0m     timeout \u001b[39m=\u001b[39m deadline \u001b[39m-\u001b[39m time\u001b[39m.\u001b[39mmonotonic()\n",
      "\u001b[0;32m--> 113\u001b[0m     \u001b[39mif\u001b[39;00m \u001b[39mnot\u001b[39;00m \u001b[39mself\u001b[39;49m\u001b[39m.\u001b[39;49m_poll(timeout):\n",
      "\u001b[1;32m    114\u001b[0m         \u001b[39mraise\u001b[39;00m Empty\n",
      "\u001b[1;32m    115\u001b[0m \u001b[39melif\u001b[39;00m \u001b[39mnot\u001b[39;00m \u001b[39mself\u001b[39m\u001b[39m.\u001b[39m_poll():\n",
      "\n",
      "File \u001b[0;32m~/mambaforge/envs/aida_workshop_gnn/lib/python3.9/multiprocessing/connection.py:257\u001b[0m, in \u001b[0;36m_ConnectionBase.poll\u001b[0;34m(self, timeout)\u001b[0m\n",
      "\u001b[1;32m    255\u001b[0m \u001b[39mself\u001b[39m\u001b[39m.\u001b[39m_check_closed()\n",
      "\u001b[1;32m    256\u001b[0m \u001b[39mself\u001b[39m\u001b[39m.\u001b[39m_check_readable()\n",
      "\u001b[0;32m--> 257\u001b[0m \u001b[39mreturn\u001b[39;00m \u001b[39mself\u001b[39;49m\u001b[39m.\u001b[39;49m_poll(timeout)\n",
      "\n",
      "File \u001b[0;32m~/mambaforge/envs/aida_workshop_gnn/lib/python3.9/multiprocessing/connection.py:424\u001b[0m, in \u001b[0;36mConnection._poll\u001b[0;34m(self, timeout)\u001b[0m\n",
      "\u001b[1;32m    423\u001b[0m \u001b[39mdef\u001b[39;00m \u001b[39m_poll\u001b[39m(\u001b[39mself\u001b[39m, timeout):\n",
      "\u001b[0;32m--> 424\u001b[0m     r \u001b[39m=\u001b[39m wait([\u001b[39mself\u001b[39;49m], timeout)\n",
      "\u001b[1;32m    425\u001b[0m     \u001b[39mreturn\u001b[39;00m \u001b[39mbool\u001b[39m(r)\n",
      "\n",
      "File \u001b[0;32m~/mambaforge/envs/aida_workshop_gnn/lib/python3.9/multiprocessing/connection.py:931\u001b[0m, in \u001b[0;36mwait\u001b[0;34m(object_list, timeout)\u001b[0m\n",
      "\u001b[1;32m    928\u001b[0m     deadline \u001b[39m=\u001b[39m time\u001b[39m.\u001b[39mmonotonic() \u001b[39m+\u001b[39m timeout\n",
      "\u001b[1;32m    930\u001b[0m \u001b[39mwhile\u001b[39;00m \u001b[39mTrue\u001b[39;00m:\n",
      "\u001b[0;32m--> 931\u001b[0m     ready \u001b[39m=\u001b[39m selector\u001b[39m.\u001b[39;49mselect(timeout)\n",
      "\u001b[1;32m    932\u001b[0m     \u001b[39mif\u001b[39;00m ready:\n",
      "\u001b[1;32m    933\u001b[0m         \u001b[39mreturn\u001b[39;00m [key\u001b[39m.\u001b[39mfileobj \u001b[39mfor\u001b[39;00m (key, events) \u001b[39min\u001b[39;00m ready]\n",
      "\n",
      "File \u001b[0;32m~/mambaforge/envs/aida_workshop_gnn/lib/python3.9/selectors.py:416\u001b[0m, in \u001b[0;36m_PollLikeSelector.select\u001b[0;34m(self, timeout)\u001b[0m\n",
      "\u001b[1;32m    414\u001b[0m ready \u001b[39m=\u001b[39m []\n",
      "\u001b[1;32m    415\u001b[0m \u001b[39mtry\u001b[39;00m:\n",
      "\u001b[0;32m--> 416\u001b[0m     fd_event_list \u001b[39m=\u001b[39m \u001b[39mself\u001b[39;49m\u001b[39m.\u001b[39;49m_selector\u001b[39m.\u001b[39;49mpoll(timeout)\n",
      "\u001b[1;32m    417\u001b[0m \u001b[39mexcept\u001b[39;00m \u001b[39mInterruptedError\u001b[39;00m:\n",
      "\u001b[1;32m    418\u001b[0m     \u001b[39mreturn\u001b[39;00m ready\n",
      "\n",
      "\u001b[0;31mKeyboardInterrupt\u001b[0m: "
     ]
    }
   ],
   "source": [
    "from tqdm.notebook import tqdm, trange\n",
    "max_epochs = 10\n",
    "optimizer = model.configure_optimizers()\n",
    "\n",
    "epoch_pbar = tqdm(total=max_epochs, desc='Epoch', leave=True)\n",
    "train_pbar = tqdm(total=len(train_dataloader), desc='Training batch', leave=True)\n",
    "dev_pbar = tqdm(total=len(dev_dataloader), desc='Dev batch', leave=True)\n",
    "for epoch in range(max_epochs):\n",
    "    for i,batch in enumerate(train_dataloader):\n",
    "        optimizer.zero_grad()\n",
    "        loss = model.training_step(batch.to(device), i)\n",
    "\n",
    "        loss.backward()\n",
    "        optimizer.step()\n",
    "        train_pbar.update()\n",
    "    validation_losses = []\n",
    "    for i,batch in enumerate(dev_dataloader):\n",
    "        with torch.no_grad():\n",
    "            loss = model.validation_step(batch.to(device), i)\n",
    "            validation_losses.append(loss.item())\n",
    "        dev_pbar.update()\n",
    "\n",
    "    validation_loss = np.mean(validation_losses)\n",
    "    epoch_pbar.set_description(f\"Epoch (previous dev loss:{validation_loss})\")\n",
    "    epoch_pbar.update()\n",
    "    train_pbar.reset()\n",
    "    dev_pbar.reset()"
   ]
  },
  {
   "cell_type": "code",
   "execution_count": null,
   "metadata": {},
   "outputs": [
    {
     "data": {
      "application/vnd.jupyter.widget-view+json": {
       "model_id": "7677cd35949a4979b856db64c20af398",
       "version_major": 2,
       "version_minor": 0
      },
      "text/plain": [
       "Test batch:   0%|          | 0/7 [00:00<?, ?it/s]"
      ]
     },
     "metadata": {},
     "output_type": "display_data"
    }
   ],
   "source": [
    "test_dataloader = DataLoader(test_dataset, batch_size=32, drop_last=False, shuffle=False, num_workers=4)\n",
    "predictions = []\n",
    "targets = []\n",
    "for i, test_batch in enumerate(tqdm(test_dataloader, desc=\"Test batch\")):\n",
    "    batch_predictions, batch_targets = model.predict_step(test_batch.to(device), i)\n",
    "    predictions.append(batch_predictions.cpu().numpy())\n",
    "    targets.append(batch_targets.cpu().numpy())\n",
    "predictions = np.concatenate(predictions)\n",
    "targets = np.concatenate(targets)"
   ]
  },
  {
   "cell_type": "code",
   "execution_count": null,
   "metadata": {},
   "outputs": [
    {
     "data": {
      "image/png": "[encoded data removed]",
      "text/plain": [
       "<Figure size 640x480 with 2 Axes>"
      ]
     },
     "metadata": {},
     "output_type": "display_data"
    }
   ],
   "source": [
    "from sklearn.metrics import confusion_matrix, ConfusionMatrixDisplay\n",
    "import matplotlib.pyplot as plt\n",
    "major_confusion = confusion_matrix(predictions, targets)\n",
    "ConfusionMatrixDisplay(major_confusion).plot()\n",
    "plt.title(\"ISUP Grade confusion matrix\")\n",
    "plt.show()"
   ]
  },
  {
   "cell_type": "markdown",
   "metadata": {},
   "source": [
    "## Finer control with GConvLayers\n",
    "\n",
    "The implemented models in Pytorch Geometric covers some basic cases, but we might often wan't to tweak the architecture of the network. We will now look at how we can implement our own Graph Neural Networks by using the different Graph Convolution Layers of Pytorch Geometric.\n",
    "\n",
    "### Pytorch Lightning\n",
    "\n",
    "We will be using [Pytorch Lightning](https://github.com/Lightning-AI/lightning) to simplify boiler plate code for training. It gives us many features without us having to implement them such as checkpointing, logging, early stopping, learning rate scheduling etc. Unfortunately, the current version doesn't work well with the predefined Pytorch Geometric models, which is the reason why we didn't use them in the example above. The issue seems to be that Pytorch Lightning tries to use the Pytorch JIT decorated functions of the BaseGNN which makes memory consumption blow up."
   ]
  },
  {
   "cell_type": "code",
   "execution_count": null,
   "metadata": {},
   "outputs": [],
   "source": [
    "from dataclasses import dataclass\n",
    "from typing import Type\n",
    "\n",
    "import torch\n",
    "import lightning.pytorch as pl\n",
    "from torch_geometric.nn import global_mean_pool\n",
    "\n",
    "@dataclass\n",
    "class LayerConfig:\n",
    "    layer_dim: int    \n",
    "    conv_module: Type\n",
    "    nonlinearity: Type\n",
    "    dropout_rate: float\n",
    "\n",
    "@dataclass\n",
    "class PANDaGNNConfig:\n",
    "    d_model: int\n",
    "    output_head_ffn_dim: int\n",
    "    n_gnn_layers: int\n",
    "    dropout_rate: float\n",
    "    gnn_layer_type: Type\n",
    "    gnn_layer_config: LayerConfig\n",
    "    residual_connections: bool = True\n",
    "    \n",
    "\n",
    "class GNNLayer(torch.nn.Module):\n",
    "    \"Implements a GNN block, including nonlinearity and normalizations\"\n",
    "    def __init__(self, input_dim, config: LayerConfig):\n",
    "        super().__init__()\n",
    "        self.input_dim = input_dim\n",
    "        self.output_dim = config.layer_dim\n",
    "        self.config = config\n",
    "        self.conv_layer = config.conv_module(self.input_dim, self.output_dim)\n",
    "        self.nonlinearity = config.nonlinearity()\n",
    "        self.dropout = torch.nn.Dropout(config.dropout_rate)\n",
    "        \n",
    "    def forward(self, x, batch):\n",
    "        x = self.conv_layer(x, batch.edge_index)\n",
    "        x = self.nonlinearity(x)\n",
    "        x = self.dropout(x)\n",
    "        return x\n",
    "\n",
    "\n",
    "class LightningPANDaGNN(pl.LightningModule):\n",
    "    def __init__(self, node_type_map, num_classes, config: PANDaGNNConfig):\n",
    "        super().__init__()\n",
    "        self.node_type_map = node_type_map\n",
    "        self.config = config\n",
    "        self.num_classes = num_classes\n",
    "        \n",
    "        self.node_type_embedding = torch.nn.Embedding(len(node_type_map), config.d_model)\n",
    "        dim_from_below = config.d_model\n",
    "        self.gnn_layers = torch.nn.ModuleList()\n",
    "\n",
    "        for i in range(config.n_gnn_layers):\n",
    "            layer = self.config.gnn_layer_type(dim_from_below, self.config.gnn_layer_config)\n",
    "            dim_from_below = layer.output_dim\n",
    "            self.gnn_layers.append(layer)\n",
    "\n",
    "        self.output_head = torch.nn.Sequential(torch.nn.Linear(dim_from_below, config.output_head_ffn_dim), torch.nn.ReLU(), torch.nn.Dropout(config.dropout_rate), torch.nn.Linear(config.output_head_ffn_dim, num_classes))\n",
    "\n",
    "    def forward(self, batch):\n",
    "        # X contains our node attributes. In our case it's the classes assigned to each node. We need to embed them first:\n",
    "        x = self.node_type_embedding(batch.x)\n",
    "        for gnn_layer in self.gnn_layers:\n",
    "            if self.config.residual_connections:\n",
    "                x = x + gnn_layer(x, batch)\n",
    "            else:\n",
    "                x = gnn_layer(x, batch)\n",
    "\n",
    "        x = global_mean_pool(x, batch.batch)\n",
    "        \n",
    "        predictions = self.output_head(x)\n",
    "\n",
    "        return predictions\n",
    "\n",
    "    def loss_on_batch(self, batch):\n",
    "        target = batch.y\n",
    "\n",
    "        predictions = self(batch)\n",
    "        loss = torch.nn.functional.cross_entropy(predictions, target)\n",
    "\n",
    "        return loss\n",
    "    \n",
    "    def loss_and_acc_on_batch(self, batch):\n",
    "        target = batch.y\n",
    "\n",
    "        predictions = self(batch)\n",
    "        loss = torch.nn.functional.cross_entropy(predictions, target)\n",
    "\n",
    "        correct_predictions = predictions.detach().argmax(dim=-1) == target\n",
    "        accuracy = torch.mean(correct_predictions.to(dtype=torch.float)).item()\n",
    "\n",
    "        return loss, accuracy\n",
    "    \n",
    "    def training_step(self, batch, batch_idx):\n",
    "        # training_step defines the train loop.\n",
    "        self.train()\n",
    "        training_loss = self.loss_on_batch(batch)\n",
    "        self.log(\"train_loss\", training_loss.item())\n",
    "        return training_loss\n",
    "\n",
    "    def configure_optimizers(self):\n",
    "        optimizer = torch.optim.AdamW(self.parameters(), lr=3e-4)\n",
    "        return optimizer\n",
    "\n",
    "    def test_step(self, batch, batch_idx):\n",
    "        # this is the test loop\n",
    "        self.eval()\n",
    "        test_loss = self.loss_on_batch(batch)\n",
    "        self.log(\"test_loss\", test_loss)\n",
    "\n",
    "    def validation_step(self, batch, batch_idx):\n",
    "        # this is the dev/validation loop\n",
    "        self.eval()\n",
    "        val_loss, accuracy = self.loss_and_acc_on_batch(batch)\n",
    "        self.log(\"val_loss\", val_loss)\n",
    "        self.log(\"val_accuracy\", accuracy)\n",
    "\n",
    "    def predict_step(self, batch, batch_idx):\n",
    "        self.eval()\n",
    "        targets = batch.y\n",
    "        predictions = self(batch)\n",
    "\n",
    "        return (predictions.detach().argmax(dim=-1), targets)\n",
    "        \n",
    "\n"
   ]
  },
  {
   "cell_type": "code",
   "execution_count": null,
   "metadata": {},
   "outputs": [],
   "source": [
    "import torch_geometric\n",
    "\n",
    "d_model = 32\n",
    "\n",
    "layer_config = LayerConfig(layer_dim=d_model, \n",
    "                           conv_module=torch_geometric.nn.GCNConv, \n",
    "                          nonlinearity=torch.nn.ReLU, \n",
    "                          dropout_rate=0.1)\n",
    "gnn_config = PANDaGNNConfig(\n",
    "    d_model=d_model,\n",
    "    output_head_ffn_dim=d_model,\n",
    "    n_gnn_layers=6,\n",
    "    dropout_rate=0.1,\n",
    "    gnn_layer_type=GNNLayer,\n",
    "    gnn_layer_config=layer_config,\n",
    "    residual_connections=True\n",
    ")\n",
    "num_classes = train_dataset.num_classes\n",
    "\n",
    "model = LightningPANDaGNN(train_dataset.node_type_map, num_classes, gnn_config)"
   ]
  },
  {
   "cell_type": "code",
   "execution_count": null,
   "metadata": {},
   "outputs": [
    {
     "name": "stderr",
     "output_type": "stream",
     "text": [
      "/home/erik/mambaforge/envs/aida_workshop_gnn/lib/python3.9/site-packages/lightning/fabric/connector.py:554: UserWarning: 16 is supported for historical reasons but its usage is discouraged. Please set your precision to 16-mixed instead!\n",
      "  rank_zero_warn(\n",
      "Using 16bit Automatic Mixed Precision (AMP)\n",
      "GPU available: True (cuda), used: True\n",
      "TPU available: False, using: 0 TPU cores\n",
      "IPU available: False, using: 0 IPUs\n",
      "HPU available: False, using: 0 HPUs\n"
     ]
    }
   ],
   "source": [
    "from pathlib import Path\n",
    "import sys\n",
    "\n",
    "from lightning import Trainer\n",
    "from lightning.pytorch.callbacks import ModelCheckpoint\n",
    "from lightning.pytorch.callbacks.lr_monitor import LearningRateMonitor\n",
    "from lightning.pytorch.callbacks.early_stopping import EarlyStopping\n",
    "\n",
    "CHECKPOINT_PATH = Path('../models')\n",
    "\n",
    "\n",
    "trainer = Trainer(\n",
    "        default_root_dir = CHECKPOINT_PATH,  # Where to save models\n",
    "        # We run on a single GPU (if possible)\n",
    "        accelerator=\"auto\",\n",
    "        devices=1,\n",
    "        precision=16,\n",
    "        # How many epochs to train for if no patience is set\n",
    "        max_epochs=1000,\n",
    "        callbacks=[\n",
    "            ModelCheckpoint(\n",
    "                save_weights_only=True, mode=\"min\", monitor=\"val_loss\"\n",
    "            ),  # Save the best checkpoint based on the maximum val_acc recorded. Saves only weights and not optimizer\n",
    "            LearningRateMonitor(\"epoch\"),\n",
    "        ],  # Log learning rate every epoch\n",
    "    )  # In case your notebook crashes due to the progress bar, consider increasing the refresh rate\n"
   ]
  },
  {
   "cell_type": "code",
   "execution_count": null,
   "metadata": {},
   "outputs": [],
   "source": [
    "from torch_geometric.loader import DataLoader\n",
    "batch_size = 32\n",
    "train_dataloader = DataLoader(train_dataset, batch_size=batch_size, drop_last=False, shuffle=True, num_workers=4)\n",
    "dev_dataloader = DataLoader(dev_dataset, batch_size=batch_size, drop_last=False, shuffle=False, num_workers=4)\n"
   ]
  },
  {
   "cell_type": "code",
   "execution_count": null,
   "metadata": {},
   "outputs": [
    {
     "data": {
      "text/plain": [
       "Reusing TensorBoard on port 6006 (pid 3190), started 0:00:04 ago. (Use '!kill 3190' to kill it.)"
      ]
     },
     "metadata": {},
     "output_type": "display_data"
    },
    {
     "data": {
      "text/html": [
       "\n",
       "      <iframe id=\"tensorboard-frame-555ffdfb26c4d64a\" width=\"100%\" height=\"800\" frameborder=\"0\">\n",
       "      </iframe>\n",
       "      <script>\n",
       "        (function() {\n",
       "          const frame = document.getElementById(\"tensorboard-frame-555ffdfb26c4d64a\");\n",
       "          const url = new URL(\"http://localhost\");\n",
       "          const port = 6006;\n",
       "          if (port) {\n",
       "            url.port = port;\n",
       "          }\n",
       "          frame.src = url;\n",
       "        })();\n",
       "      </script>\n",
       "    "
      ],
      "text/plain": [
       "<IPython.core.display.HTML object>"
      ]
     },
     "metadata": {},
     "output_type": "display_data"
    }
   ],
   "source": [
    "%reload_ext tensorboard\n",
    "%tensorboard --logdir=../models/lightning_logs/"
   ]
  },
  {
   "cell_type": "code",
   "execution_count": null,
   "metadata": {},
   "outputs": [],
   "source": [
    "trainer.fit(model, train_dataloader, dev_dataloader)\n"
   ]
  },
  {
   "cell_type": "code",
   "execution_count": null,
   "metadata": {},
   "outputs": [
    {
     "name": "stderr",
     "output_type": "stream",
     "text": [
      "/home/erik/mambaforge/envs/aida_workshop_gnn/lib/python3.9/site-packages/lightning/pytorch/trainer/connectors/checkpoint_connector.py:149: UserWarning: `.predict(ckpt_path=None)` was called without a model. The best model of the previous `fit` call will be used. You can pass `.predict(ckpt_path='best')` to use the best model or `.predict(ckpt_path='last')` to use the last model. If you pass a value, this warning will be silenced.\n",
      "  rank_zero_warn(\n",
      "Restoring states from the checkpoint path at ../models/lightning_logs/version_9/checkpoints/epoch=92-step=4650.ckpt\n",
      "LOCAL_RANK: 0 - CUDA_VISIBLE_DEVICES: [0]\n",
      "Loaded model weights from the checkpoint at ../models/lightning_logs/version_9/checkpoints/epoch=92-step=4650.ckpt\n"
     ]
    },
    {
     "data": {
      "application/vnd.jupyter.widget-view+json": {
       "model_id": "431c19c8d877494e88962cd163bb4f8e",
       "version_major": 2,
       "version_minor": 0
      },
      "text/plain": [
       "Predicting: 0it [00:00, ?it/s]"
      ]
     },
     "metadata": {},
     "output_type": "display_data"
    }
   ],
   "source": [
    "test_dataloader = DataLoader(test_dataset, batch_size=32, drop_last=False, shuffle=False, num_workers=4)\n",
    "predictions = trainer.predict(dataloaders=test_dataloader)\n",
    "predictions, targets = zip(*predictions)\n",
    "predictions = torch.cat(predictions)\n",
    "targets = torch.cat(targets)"
   ]
  },
  {
   "cell_type": "code",
   "execution_count": null,
   "metadata": {},
   "outputs": [
    {
     "data": {
      "image/png": "[encoded data removed]",
      "text/plain": [
       "<Figure size 640x480 with 2 Axes>"
      ]
     },
     "metadata": {},
     "output_type": "display_data"
    }
   ],
   "source": [
    "from sklearn.metrics import confusion_matrix, ConfusionMatrixDisplay\n",
    "import matplotlib.pyplot as plt\n",
    "major_confusion = confusion_matrix(predictions, targets)\n",
    "ConfusionMatrixDisplay(major_confusion).plot()\n",
    "plt.show()"
   ]
  },
  {
   "cell_type": "markdown",
   "metadata": {},
   "source": [
    "## Changing Conv layer\n",
    "\n",
    "Here we will look at how we can change the convolution layer we use and whether that will have some effect. A list of available layers can be found at the PyG [documentation](https://pytorch-geometric.readthedocs.io/en/latest/modules/nn.html#convolutional-layers)."
   ]
  },
  {
   "cell_type": "code",
   "execution_count": null,
   "metadata": {},
   "outputs": [],
   "source": [
    "import torch_geometric\n",
    "\n",
    "d_model = 128\n",
    "\n",
    "layer_config = LayerConfig(layer_dim=d_model, \n",
    "                           conv_module=torch_geometric.nn.GATv2Conv, \n",
    "                           nonlinearity=torch.nn.ReLU, \n",
    "                           dropout_rate=0.5)\n",
    "gnn_config = PANDaGNNConfig(\n",
    "    d_model=d_model,\n",
    "    output_head_ffn_dim=d_model,\n",
    "    n_gnn_layers=6,\n",
    "    dropout_rate=0.5,\n",
    "    gnn_layer_type=GNNLayer,\n",
    "    gnn_layer_config=layer_config,\n",
    "    residual_connections=True\n",
    ")\n",
    "num_classes = train_dataset.num_classes\n",
    "\n",
    "model = LightningPANDaGNN(train_dataset.node_type_map, num_classes, gnn_config)"
   ]
  },
  {
   "cell_type": "code",
   "execution_count": null,
   "metadata": {},
   "outputs": [
    {
     "name": "stderr",
     "output_type": "stream",
     "text": [
      "Using 16bit Automatic Mixed Precision (AMP)\n",
      "GPU available: True (cuda), used: True\n",
      "TPU available: False, using: 0 TPU cores\n",
      "IPU available: False, using: 0 IPUs\n",
      "HPU available: False, using: 0 HPUs\n"
     ]
    }
   ],
   "source": [
    "from pathlib import Path\n",
    "import sys\n",
    "\n",
    "from lightning import Trainer\n",
    "from lightning.pytorch.callbacks import ModelCheckpoint\n",
    "from lightning.pytorch.callbacks.lr_monitor import LearningRateMonitor\n",
    "from lightning.pytorch.callbacks.early_stopping import EarlyStopping\n",
    "\n",
    "CHECKPOINT_PATH = Path('../models')\n",
    "\n",
    "\n",
    "trainer = Trainer(\n",
    "        default_root_dir = CHECKPOINT_PATH,  # Where to save models\n",
    "        # We run on a single GPU (if possible)\n",
    "        accelerator=\"auto\",\n",
    "        devices=1,\n",
    "        precision=16,\n",
    "        # How many epochs to train for if no patience is set\n",
    "        max_epochs=1000,\n",
    "        #enable_progress_bar=False,\n",
    "        callbacks=[\n",
    "            ModelCheckpoint(\n",
    "                save_weights_only=True, mode=\"min\", monitor=\"val_loss\"\n",
    "            ),  # Save the best checkpoint based on the maximum val_acc recorded. Saves only weights and not optimizer\n",
    "            LearningRateMonitor(\"epoch\"),\n",
    "        ],  # Log learning rate every epoch\n",
    "    )  # In case your notebook crashes due to the progress bar, consider increasing the refresh rate\n"
   ]
  },
  {
   "cell_type": "code",
   "execution_count": null,
   "metadata": {},
   "outputs": [],
   "source": [
    "from torch_geometric.loader import DataLoader\n",
    "batch_size = 8\n",
    "train_dataloader = DataLoader(train_dataset, batch_size=batch_size, drop_last=False, shuffle=True, num_workers=6)\n",
    "dev_dataloader = DataLoader(dev_dataset, batch_size=batch_size, drop_last=False, shuffle=False, num_workers=4)"
   ]
  },
  {
   "cell_type": "code",
   "execution_count": null,
   "metadata": {},
   "outputs": [],
   "source": [
    "trainer.fit(model, train_dataloader, dev_dataloader)\n"
   ]
  },
  {
   "cell_type": "code",
   "execution_count": null,
   "metadata": {},
   "outputs": [
    {
     "data": {
      "text/plain": [
       "Reusing TensorBoard on port 6006 (pid 15133), started 0:24:22 ago. (Use '!kill 15133' to kill it.)"
      ]
     },
     "metadata": {},
     "output_type": "display_data"
    },
    {
     "data": {
      "text/html": [
       "\n",
       "      <iframe id=\"tensorboard-frame-2895aecb3a0619b8\" width=\"100%\" height=\"800\" frameborder=\"0\">\n",
       "      </iframe>\n",
       "      <script>\n",
       "        (function() {\n",
       "          const frame = document.getElementById(\"tensorboard-frame-2895aecb3a0619b8\");\n",
       "          const url = new URL(\"http://localhost\");\n",
       "          const port = 6006;\n",
       "          if (port) {\n",
       "            url.port = port;\n",
       "          }\n",
       "          frame.src = url;\n",
       "        })();\n",
       "      </script>\n",
       "    "
      ],
      "text/plain": [
       "<IPython.core.display.HTML object>"
      ]
     },
     "metadata": {},
     "output_type": "display_data"
    }
   ],
   "source": [
    "%reload_ext tensorboard\n",
    "%tensorboard --logdir=../models/lightning_logs/"
   ]
  },
  {
   "cell_type": "code",
   "execution_count": null,
   "metadata": {},
   "outputs": [
    {
     "name": "stderr",
     "output_type": "stream",
     "text": [
      "/home/erik/mambaforge/envs/aida_workshop_gnn/lib/python3.9/site-packages/lightning/pytorch/trainer/connectors/checkpoint_connector.py:149: UserWarning: `.predict(ckpt_path=None)` was called without a model. The best model of the previous `fit` call will be used. You can pass `.predict(ckpt_path='best')` to use the best model or `.predict(ckpt_path='last')` to use the last model. If you pass a value, this warning will be silenced.\n",
      "  rank_zero_warn(\n",
      "Restoring states from the checkpoint path at ../models/lightning_logs/version_15/checkpoints/epoch=73-step=14801.ckpt\n",
      "LOCAL_RANK: 0 - CUDA_VISIBLE_DEVICES: [0]\n",
      "Loaded model weights from the checkpoint at ../models/lightning_logs/version_15/checkpoints/epoch=73-step=14801.ckpt\n"
     ]
    },
    {
     "data": {
      "application/vnd.jupyter.widget-view+json": {
       "model_id": "ade78ee175544e36af55c4956e5eed91",
       "version_major": 2,
       "version_minor": 0
      },
      "text/plain": [
       "Predicting: 0it [00:00, ?it/s]"
      ]
     },
     "metadata": {},
     "output_type": "display_data"
    }
   ],
   "source": [
    "test_dataloader = DataLoader(test_dataset, batch_size=32, drop_last=False, shuffle=False, num_workers=4)\n",
    "predictions = trainer.predict(dataloaders=test_dataloader)\n",
    "predictions, targets = zip(*predictions)\n",
    "predictions = torch.cat(predictions)\n",
    "targets = torch.cat(targets)"
   ]
  },
  {
   "cell_type": "code",
   "execution_count": null,
   "metadata": {},
   "outputs": [
    {
     "data": {
      "image/png": "[encoded data removed]",
      "text/plain": [
       "<Figure size 640x480 with 2 Axes>"
      ]
     },
     "metadata": {},
     "output_type": "display_data"
    }
   ],
   "source": [
    "from sklearn.metrics import confusion_matrix, ConfusionMatrixDisplay\n",
    "import matplotlib.pyplot as plt\n",
    "major_confusion = confusion_matrix(predictions, targets)\n",
    "ConfusionMatrixDisplay(major_confusion).plot()\n",
    "plt.show()"
   ]
  },
  {
   "cell_type": "markdown",
   "metadata": {},
   "source": [
    "## Dropping the graph\n",
    "\n",
    "Recall that we started out with a set of coordinates for detected cells in images. This wasn't really a graph, but by taking the distances between all nodes and applying a threshold we induced a graph. We can think of this as _computing_ an adjacency matrix based on some information about the elements of the node set (in this case their positions). We created an adjacency matrix looking something like this:\n",
    "$$\n",
    "\\begin{bmatrix}\n",
    "f(v_1, v_1) & \\dots & f(v_1, v_n)\\\\\n",
    "\\vdots & \\ddots & \\vdots \\\\\n",
    "f(v_n, v_1) & \\dots & f(v_n, v_n)\n",
    "\\end{bmatrix}\n",
    "$$\n",
    "\n",
    "$$\n",
    "\\begin{align*}\n",
    "f(u,v) &= \\begin{cases}\n",
    "    1, & \\text{if } 0 \\lt d(u,v) \\lt r\\\\\n",
    "    0, &\\text{otherwise}\n",
    "\\end{cases}\\\\\n",
    "d(u,v) &= \\lVert u - v \\rVert\n",
    "\\end{align*}\n",
    "$$\n",
    "\n",
    "Where $r$ was the radius we decided on.\n",
    "\n",
    "Instead of thinking of this as a pre-processing step, we can think of it as part of our model, where we recompute the attention matrix after each message propagation. One neural network which implements this idea is the Dynamic Edge Convolution network, which instead of taking a graph of inputs takes a point cloud. Since our dataset already have the positions of all nodes, we don't have to do anything to it, only define a new model."
   ]
  },
  {
   "cell_type": "code",
   "execution_count": null,
   "metadata": {},
   "outputs": [],
   "source": [
    "from dataclasses import dataclass\n",
    "from typing import Type\n",
    "\n",
    "import torch\n",
    "import lightning.pytorch as pl\n",
    "from torch_geometric.nn import global_mean_pool\n",
    "\n",
    "@dataclass\n",
    "class EdgeConvConfig:\n",
    "    d_model: int\n",
    "    ffn_dim: int\n",
    "    dropout_rate: float\n",
    "    k: int = 5\n",
    "\n",
    "@dataclass\n",
    "class PANDaPointNNConfig:\n",
    "    d_model: int\n",
    "    output_head_ffn_dim: int\n",
    "    n_gnn_layers: int\n",
    "    dropout_rate: float\n",
    "    gnn_layer_type: Type\n",
    "    gnn_layer_config: EdgeConvConfig\n",
    "    residual_connections: bool = True\n",
    "    \n",
    "\n",
    "class EdgeConvNNLayer(torch.nn.Module):\n",
    "    \"Implements a Point NN block, including nonlinearity and normalizations\"\n",
    "    def __init__(self, input_dim, config: EdgeConvConfig):\n",
    "        super().__init__()\n",
    "        self.input_dim = config.d_model\n",
    "        self.output_dim = config.d_model\n",
    "        self.config = config\n",
    "        edge_conv_nn = torch.nn.Sequential(torch.nn.Linear(input_dim, config.ffn_dim), \n",
    "                                           torch.nn.ReLU(), \n",
    "                                           torch.nn.Dropout(config.dropout_rate), \n",
    "                                           torch.nn.Linear(config.ffn_dim, self.output_dim))\n",
    "        self.conv_layer = torch_geometric.nn.DynamicEdgeConv(nn=edge_conv_nn, k=config.k)\n",
    "        self.nonlinearity = torch.nn.ReLU()\n",
    "        self.dropout = torch.nn.Dropout(config.dropout_rate)\n",
    "        \n",
    "    def forward(self, x, batch):\n",
    "        x = self.conv_layer(x, batch.batch)\n",
    "        x = self.nonlinearity(x)\n",
    "        x = self.dropout(x)\n",
    "        return x\n",
    "\n",
    "\n",
    "class LightningPANDaPointNN(pl.LightningModule):\n",
    "    def __init__(self, node_type_map, node_feature_dim, num_classes, config: PANDaPointNNConfig):\n",
    "        super().__init__()\n",
    "        self.node_type_map = node_type_map\n",
    "        self.node_feature_dim = node_feature_dim\n",
    "        self.config = config\n",
    "        self.num_classes = num_classes\n",
    "\n",
    "        # We will concatenate the node embeddings with the node positions. We wish to end up with an\n",
    "        # node feature size of d_model, so we need to set the embedding size to d_model - node_feature_dim\n",
    "        self.embedding_dim = config.d_model - node_feature_dim\n",
    "        self.num_embeddings = len(self.node_type_map)\n",
    "        self.node_type_embedding = torch.nn.Embedding(self.num_embeddings, self.embedding_dim)\n",
    "        \n",
    "        dim_from_below = config.d_model\n",
    "        self.gnn_layers = torch.nn.ModuleList()\n",
    "\n",
    "        for i in range(config.n_gnn_layers):\n",
    "            layer = self.config.gnn_layer_type(dim_from_below, self.config.gnn_layer_config)\n",
    "            dim_from_below = layer.output_dim\n",
    "            self.gnn_layers.append(layer)\n",
    "\n",
    "        self.output_head = torch.nn.Sequential(torch.nn.Linear(dim_from_below, config.output_head_ffn_dim), torch.nn.ReLU(), torch.nn.Dropout(config.dropout_rate), torch.nn.Linear(config.output_head_ffn_dim, num_classes))\n",
    "\n",
    "    def forward(self, batch):\n",
    "        # X contains our node attributes. In our case it's the classes assigned to each node. \n",
    "        # We need to embed them first:\n",
    "        x = self.node_type_embedding(batch.x)\n",
    "        # batch.pos are our positional features. We simply concatenate them to the \n",
    "        # node embeddings along the feature dimension\n",
    "        x = torch.cat([x, batch.pos], dim=-1)\n",
    "        for gnn_layer in self.gnn_layers:\n",
    "            if self.config.residual_connections:\n",
    "                x = x + gnn_layer(x, batch)\n",
    "            else:\n",
    "                x = gnn_layer(x, batch)\n",
    "\n",
    "        x = global_mean_pool(x, batch.batch)\n",
    "        \n",
    "        predictions = self.output_head(x)\n",
    "\n",
    "        return predictions\n",
    "\n",
    "    def loss_on_batch(self, batch):\n",
    "        target = batch.y\n",
    "\n",
    "        predictions = self(batch)\n",
    "        loss = torch.nn.functional.cross_entropy(predictions, target)\n",
    "\n",
    "        return loss\n",
    "    \n",
    "    def loss_and_acc_on_batch(self, batch):\n",
    "        target = batch.y\n",
    "\n",
    "        predictions = self(batch)\n",
    "        loss = torch.nn.functional.cross_entropy(predictions, target)\n",
    "\n",
    "        correct_predictions = predictions.detach().argmax(dim=-1) == target\n",
    "        accuracy = torch.mean(correct_predictions.to(dtype=torch.float)).item()\n",
    "\n",
    "        return loss, accuracy\n",
    "    \n",
    "    def training_step(self, batch, batch_idx):\n",
    "        # training_step defines the train loop.\n",
    "        training_loss = self.loss_on_batch(batch)\n",
    "        return training_loss\n",
    "\n",
    "    def configure_optimizers(self):\n",
    "        optimizer = torch.optim.AdamW(self.parameters(), lr=1e-3)\n",
    "        return optimizer\n",
    "\n",
    "    def test_step(self, batch, batch_idx):\n",
    "        # this is the test loop\n",
    "        test_loss = self.loss_on_batch(batch)\n",
    "        self.log(\"test_loss\", test_loss)\n",
    "\n",
    "    def validation_step(self, batch, batch_idx):\n",
    "        # this is the dev/validation loop\n",
    "        val_loss, accuracy = self.loss_and_acc_on_batch(batch)\n",
    "        self.log(\"val_loss\", val_loss)\n",
    "        self.log(\"val_accuracy\", accuracy)\n",
    "\n",
    "    def predict_step(self, batch, batch_idx):\n",
    "        targets = batch.y\n",
    "        predictions = self(batch)\n",
    "\n",
    "        return (predictions.detach().argmax(dim=-1), targets)\n",
    "        \n",
    "\n"
   ]
  },
  {
   "cell_type": "code",
   "execution_count": null,
   "metadata": {},
   "outputs": [],
   "source": [
    "import torch_geometric\n",
    "\n",
    "d_model = 128\n",
    "\n",
    "\n",
    "layer_config = EdgeConvConfig(d_model=d_model, ffn_dim=d_model, dropout_rate=0.1)\n",
    "                             \n",
    "gnn_config = PANDaPointNNConfig(\n",
    "    d_model=d_model,\n",
    "    output_head_ffn_dim=d_model,\n",
    "    n_gnn_layers=4,\n",
    "    dropout_rate=0.1,\n",
    "    gnn_layer_type=EdgeConvNNLayer,\n",
    "    gnn_layer_config=layer_config,\n",
    "    residual_connections=True\n",
    ")\n",
    "num_classes = train_dataset.num_classes\n",
    "node_position_dimension = train_dataset[0].pos.shape[1] # We take the position array shape for the first element in our dataset\n",
    "model = LightningPANDaPointNN(train_dataset.node_type_map, node_position_dimension, num_classes, gnn_config)"
   ]
  },
  {
   "cell_type": "code",
   "execution_count": null,
   "metadata": {},
   "outputs": [
    {
     "name": "stderr",
     "output_type": "stream",
     "text": [
      "Using 16bit Automatic Mixed Precision (AMP)\n",
      "GPU available: True (cuda), used: True\n",
      "TPU available: False, using: 0 TPU cores\n",
      "IPU available: False, using: 0 IPUs\n",
      "HPU available: False, using: 0 HPUs\n"
     ]
    }
   ],
   "source": [
    "from pathlib import Path\n",
    "\n",
    "from lightning import Trainer\n",
    "from lightning.pytorch.callbacks import ModelCheckpoint\n",
    "from lightning.pytorch.callbacks.lr_monitor import LearningRateMonitor\n",
    "from lightning.pytorch.callbacks.early_stopping import EarlyStopping\n",
    "\n",
    "CHECKPOINT_PATH = Path('../models')\n",
    "\n",
    "trainer = Trainer(\n",
    "        default_root_dir = CHECKPOINT_PATH / 'gnn_model.pt',  # Where to save models\n",
    "        # We run on a single GPU (if possible)\n",
    "        accelerator=\"auto\",\n",
    "        devices=1,\n",
    "        precision=16,\n",
    "        # How many epochs to train for if no patience is set\n",
    "        max_epochs=10,\n",
    "        callbacks=[\n",
    "            ModelCheckpoint(\n",
    "                save_weights_only=True, mode=\"min\", monitor=\"val_loss\"\n",
    "            ),  # Save the best checkpoint based on the maximum val_acc recorded. Saves only weights and not optimizer\n",
    "            LearningRateMonitor(\"epoch\"),\n",
    "        ],  # Log learning rate every epoch\n",
    "    )  # In case your notebook crashes due to the progress bar, consider increasing the refresh rate\n",
    "trainer.logger._log_graph = True  # If True, we plot the computation graph in tensorboard\n",
    "trainer.logger._default_hp_metric = None  # Optional logging argument that we don't need"
   ]
  },
  {
   "cell_type": "code",
   "execution_count": null,
   "metadata": {},
   "outputs": [
    {
     "name": "stderr",
     "output_type": "stream",
     "text": [
      "LOCAL_RANK: 0 - CUDA_VISIBLE_DEVICES: [0]\n",
      "\n",
      "  | Name                | Type       | Params\n",
      "---------------------------------------------------\n",
      "0 | node_type_embedding | Embedding  | 630   \n",
      "1 | gnn_layers          | ModuleList | 132 K \n",
      "2 | output_head         | Sequential | 17.3 K\n",
      "---------------------------------------------------\n",
      "150 K     Trainable params\n",
      "0         Non-trainable params\n",
      "150 K     Total params\n",
      "0.600     Total estimated model params size (MB)\n"
     ]
    },
    {
     "data": {
      "application/vnd.jupyter.widget-view+json": {
       "model_id": "dc11d6e10c6148d9a59690de8cee74f6",
       "version_major": 2,
       "version_minor": 0
      },
      "text/plain": [
       "Sanity Checking: 0it [00:00, ?it/s]"
      ]
     },
     "metadata": {},
     "output_type": "display_data"
    }
   ],
   "source": [
    "from torch_geometric.loader import DataLoader\n",
    "batch_size = 32\n",
    "train_dataloader = DataLoader(train_dataset, batch_size=batch_size, drop_last=False, shuffle=True, num_workers=4)\n",
    "dev_dataloader = DataLoader(dev_dataset, batch_size=batch_size, drop_last=False, shuffle=False, num_workers=4)\n",
    "trainer.fit(model, train_dataloader, dev_dataloader)\n"
   ]
  },
  {
   "cell_type": "code",
   "execution_count": null,
   "metadata": {},
   "outputs": [
    {
     "name": "stderr",
     "output_type": "stream",
     "text": [
      "Restoring states from the checkpoint path at ../models/gnn_model.pt/lightning_logs/version_23/checkpoints/epoch=9-step=720.ckpt\n",
      "LOCAL_RANK: 0 - CUDA_VISIBLE_DEVICES: [0]\n",
      "Loaded model weights from the checkpoint at ../models/gnn_model.pt/lightning_logs/version_23/checkpoints/epoch=9-step=720.ckpt\n"
     ]
    },
    {
     "data": {
      "application/vnd.jupyter.widget-view+json": {
       "model_id": "ec15fb5d1c17479c9f066366a460152c",
       "version_major": 2,
       "version_minor": 0
      },
      "text/plain": [
       "Predicting: 0it [00:00, ?it/s]"
      ]
     },
     "metadata": {},
     "output_type": "display_data"
    }
   ],
   "source": [
    "test_dataloader = DataLoader(test_dataset, batch_size=32, drop_last=False, shuffle=False, num_workers=4)\n",
    "predictions = trainer.predict(dataloaders=test_dataloader)"
   ]
  },
  {
   "cell_type": "code",
   "execution_count": null,
   "metadata": {},
   "outputs": [],
   "source": [
    "predictions, targets = zip(*predictions)\n",
    "predictions = torch.cat(predictions)\n",
    "targets = torch.cat(targets)"
   ]
  },
  {
   "cell_type": "code",
   "execution_count": null,
   "metadata": {},
   "outputs": [
    {
     "data": {
      "image/png": "[encoded data removed]",
      "text/plain": [
       "<Figure size 640x480 with 2 Axes>"
      ]
     },
     "metadata": {},
     "output_type": "display_data"
    }
   ],
   "source": [
    "from sklearn.metrics import confusion_matrix, ConfusionMatrixDisplay\n",
    "import matplotlib.pyplot as plt\n",
    "major_confusion = confusion_matrix(predictions, targets)\n",
    "ConfusionMatrixDisplay(major_confusion).plot()\n",
    "plt.title(\"ISUP Grade confusion matrix\")\n",
    "plt.show()"
   ]
  }
 ],
 "metadata": {
  "language_info": {
   "name": "python"
  },
  "orig_nbformat": 4
 },
 "nbformat": 4,
 "nbformat_minor": 2
}
