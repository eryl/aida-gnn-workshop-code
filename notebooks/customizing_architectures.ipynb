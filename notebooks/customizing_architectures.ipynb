{
 "cells": [
  {
   "cell_type": "markdown",
   "metadata": {},
   "source": [
    "## Colab preamble\n",
    "\n",
    "If this notebook is running on Google CoLab, we need to set up the required dependencies. The cell below checks if we're running on colab and tries to install the needed dependencies"
   ]
  },
  {
   "cell_type": "code",
   "execution_count": 1,
   "metadata": {},
   "outputs": [],
   "source": [
    "# This installs the concacolab package in the colab python distribution\n",
    "try:\n",
    "    import google.colab\n",
    "    # Install required packages.\n",
    "    import os\n",
    "    import torch\n",
    "    os.environ['TORCH'] = torch.__version__\n",
    "    print(torch.__version__)\n",
    "\n",
    "    !pip install -q torch-scatter -f https://data.pyg.org/whl/torch-${TORCH}.html\n",
    "    !pip install -q torch-sparse -f https://data.pyg.org/whl/torch-${TORCH}.html\n",
    "    !pip install -q torch-cluster -f https://data.pyg.org/whl/torch-${TORCH}.html\n",
    "    !pip install -q git+https://github.com/pyg-team/pytorch_geometric.git\n",
    "    pip install lightning\n",
    "except:\n",
    "    pass"
   ]
  },
  {
   "cell_type": "markdown",
   "metadata": {},
   "source": [
    "# Building the neural network\n",
    "\n",
    "We've now done the lions share of the work - converting the data we have into a graph dataset which can be fed into a neural network. We're now ready to implement our model. We will pose this problem as classification problem where the goal is to correctly classify the ISUP Grade.\n"
   ]
  },
  {
   "cell_type": "markdown",
   "metadata": {},
   "source": [
    "### The dataset\n",
    "\n",
    "We include the dataset code definition we built in the previous notebook. Note that by setting the variable `FULL_DATASET` to `True`, you can train the models on the full dataset. This will require a lot more memory and time though, so should be done on a more capable computer than the colab virtual machines."
   ]
  },
  {
   "cell_type": "code",
   "execution_count": 2,
   "metadata": {},
   "outputs": [],
   "source": [
    "from pathlib import Path\n",
    "import zipfile\n",
    "from io import StringIO, BytesIO\n",
    "import multiprocessing\n",
    "from collections import Counter\n",
    "from typing import Sequence, Literal, Optional\n",
    "import copy\n",
    "import json\n",
    "\n",
    "import torch\n",
    "from torch_geometric.data import InMemoryDataset, download_url, Data\n",
    "from torch_geometric.data.dataset import IndexType\n",
    "from tqdm.notebook import tqdm\n",
    "import pandas as pd\n",
    "import numpy as np\n",
    "from scipy.spatial import cKDTree\n",
    "\n",
    "\n",
    "GEOJSON_DIRECTORY = 'cell_detection.geojson'\n",
    "LABEL_COLUMN = 'isup_grade'\n",
    "ID_COLUMN = 'image_id'\n",
    "MPP = 0.48\n",
    "RADIUS_MICRONS = 20\n",
    "RADIUS = RADIUS_MICRONS / MPP\n",
    "\n",
    "PANDA_FULL_URL = 'https://github.com/eryl/aida-gnn-workshop-code/releases/download/PANDa_workshop_data_full_v1/PANDa_{}.zip'\n",
    "PANDA_SUBSET_URL = 'https://github.com/eryl/aida-gnn-workshop-code/releases/download/PANDa_workshop_data_v1/PANDa_{}.zip'\n",
    "\n",
    "# You can switch to using the full 10615 files by setting this to True. \n",
    "# Warning! It will require a lot of memory to hold it in RAM. \n",
    "# The total download is about 1.5GB for the full set and 300MB for the subset.\n",
    "FULL_DATASET = False\n",
    "if FULL_DATASET:\n",
    "    DATASET_URL = PANDA_FULL_URL\n",
    "    DATASET_DIR = '../datasets/PANDa_full'\n",
    "else:\n",
    "    DATASET_URL = PANDA_SUBSET_URL\n",
    "    DATASET_DIR = '../datasets/PANDa'\n",
    "\n",
    "\n",
    "class PANDaGraphDataset(InMemoryDataset):\n",
    "    data_url = DATASET_URL\n",
    "    data_split = ''\n",
    "    \n",
    "    def __init__(self, root=DATASET_DIR, transform=None, pre_transform=None, pre_filter=None):\n",
    "        super().__init__(root, transform, pre_transform, pre_filter)\n",
    "        self.data, self.slices, self.label_map, self.node_type_map = torch.load(self.processed_paths[0])\n",
    "    \n",
    "    @property\n",
    "    def raw_file_names(self):\n",
    "        return [f'PANDa_{self.data_split}.zip']\n",
    "\n",
    "    @property\n",
    "    def processed_file_names(self):\n",
    "        return [f'PANDa_{self.data_split}.pt']\n",
    "\n",
    "    def download(self):\n",
    "        # Download to `self.raw_dir`.\n",
    "        url = self.data_url.format(self.data_split)\n",
    "        download_url(url, self.raw_dir)\n",
    "\n",
    "    def _transpose_geojson(self, geojson_obj):\n",
    "        node_positions = []\n",
    "        node_types = []\n",
    "        for feature_obj in geojson_obj:\n",
    "            if feature_obj.get('type') == 'Feature':\n",
    "                feature_coordinates = feature_obj['geometry']['coordinates']\n",
    "                node_positions.extend(feature_coordinates)\n",
    "                feature_labels = [feature_obj['properties']['classification']['name']]*len(feature_coordinates)\n",
    "                node_types.extend(feature_labels)\n",
    "        return np.array(node_positions), node_types\n",
    "\n",
    "    def _create_edges(self, node_positions, radius=RADIUS):\n",
    "        spatial_index = cKDTree(node_positions)\n",
    "        sparse_distances = spatial_index.sparse_distance_matrix(spatial_index, radius, output_type='coo_matrix')\n",
    "        sparse_distances.eliminate_zeros()  # We eliminate all zeros from the matrix, we don't want self-loops\n",
    "        pair_indices = np.stack([sparse_distances.row, sparse_distances.col], axis=0)\n",
    "        distances = np.copy(sparse_distances.data)\n",
    "        return pair_indices, distances\n",
    "\n",
    "    def _convert_geojson_to_graph(self, geojson_string):\n",
    "        geojson_object = json.loads(geojson_string)\n",
    "        node_positions, node_classes = self._transpose_geojson(geojson_object)\n",
    "        edges, distances = self._create_edges(node_positions)\n",
    "        return {'edges': edges, 'edge_distance': distances, 'node_positions': node_positions, 'node_types': node_classes}\n",
    "\n",
    "    def _read_geojson_archive(self):\n",
    "        LABEL_COLUMN = 'isup_grade'\n",
    "        ID_COLUMN = 'image_id'  \n",
    "        graphs = dict()\n",
    "\n",
    "        for filename in self.raw_file_names:\n",
    "            file_path = Path(self.raw_dir) / filename\n",
    "            with zipfile.ZipFile(file_path) as zf:\n",
    "                graphs = dict()\n",
    "                csv_file = None\n",
    "                for name in tqdm(zf.namelist(), desc=\"Creating graph data\"):\n",
    "                    if GEOJSON_DIRECTORY in name:\n",
    "                        *_, image_id = name.split('/')\n",
    "                        geojson_string = zf.read(name)\n",
    "                        graph_data = self._convert_geojson_to_graph(geojson_string)\n",
    "                        graph_data['image_id'] = image_id\n",
    "                        graphs[image_id] = graph_data\n",
    "                    elif '.csv' in name:\n",
    "                        csv_string = zf.read(name)\n",
    "                        csv_io = BytesIO(csv_string)\n",
    "                        csv_file = pd.read_csv(csv_io)\n",
    "                        \n",
    "                if csv_file is None:\n",
    "                    raise RuntimeError(\"No csv file in archive\")\n",
    "                else:\n",
    "                    for row in csv_file.to_dict('records'):\n",
    "                        image_id = row[ID_COLUMN]\n",
    "                        if image_id in graphs:\n",
    "                            label = row[LABEL_COLUMN]\n",
    "                            graphs[image_id]['label'] = label \n",
    "        return graphs\n",
    "    \n",
    "    def _convert_labels_inplace(self, graphs):\n",
    "        labels = set()\n",
    "        for graph in graphs.values():\n",
    "            labels.add(graph['label'])\n",
    "        label_map = {node_type: i for i,node_type in enumerate(sorted(labels))}\n",
    "        for graph in graphs.values():\n",
    "            label = graph['label']\n",
    "            encoded_label = torch.tensor(label_map[label])\n",
    "            graph['label'] = encoded_label\n",
    "        return label_map\n",
    "\n",
    "    def _convert_node_types_inplace(self, graphs):\n",
    "        node_types = set()\n",
    "        for graph in graphs.values():\n",
    "            node_types.update(graph['node_types'])\n",
    "        node_type_map = {node_type: i for i,node_type in enumerate(sorted(node_types))}\n",
    "        for graph in graphs.values():\n",
    "            node_types = graph['node_types']\n",
    "            node_types = torch.tensor([node_type_map[node_type] for node_type in node_types])\n",
    "            graph['node_types'] = node_types\n",
    "        return node_type_map\n",
    "\n",
    "    def _convert_to_pyg_data(self, graph):\n",
    "        x=graph['node_types']\n",
    "        edge_index=torch.tensor(graph['edges'])\n",
    "        edge_attr=torch.tensor(graph['edge_distance'])\n",
    "        y=graph['label']\n",
    "        pos=torch.tensor(graph['node_positions'])\n",
    "        return Data(x=x, edge_index=edge_index, edge_attr=edge_attr, y=y, pos=pos)\n",
    "\n",
    "    def process(self):\n",
    "        # Read data huge `Data` list.\n",
    "        graphs = self._read_geojson_archive()\n",
    "        label_map = self._convert_labels_inplace(graphs)\n",
    "        node_type_map = self._convert_node_types_inplace(graphs)\n",
    "\n",
    "        data_list = [self._convert_to_pyg_data(graph) for graph in tqdm(graphs.values(), desc=\"Converting graphs\")]\n",
    "\n",
    "        if self.pre_filter is not None:\n",
    "            data_list = [data for data in data_list if self.pre_filter(data)]\n",
    "\n",
    "        if self.pre_transform is not None:\n",
    "            data_list = [self.pre_transform(data) for data in data_list]\n",
    "\n",
    "        data, slices = self.collate(data_list)\n",
    "        torch.save((data, slices, label_map, node_type_map), self.processed_paths[0])\n",
    "\n",
    "    \n",
    "class PANDaGraphDatasetTrain(PANDaGraphDataset):\n",
    "    data_split = 'train'\n",
    "\n",
    "class PANDaGraphDatasetDev(PANDaGraphDataset):\n",
    "    data_split = 'dev'\n",
    "\n",
    "class PANDaGraphDatasetTest(PANDaGraphDataset):\n",
    "    data_split = 'test'\n",
    "\n"
   ]
  },
  {
   "cell_type": "code",
   "execution_count": 3,
   "metadata": {},
   "outputs": [],
   "source": [
    "train_dataset = PANDaGraphDatasetTrain()\n",
    "test_dataset = PANDaGraphDatasetTest()\n",
    "dev_dataset = PANDaGraphDatasetDev()"
   ]
  },
  {
   "cell_type": "code",
   "execution_count": 4,
   "metadata": {},
   "outputs": [
    {
     "data": {
      "text/plain": [
       "PANDaGraphDatasetTrain(1596)"
      ]
     },
     "execution_count": 4,
     "metadata": {},
     "output_type": "execute_result"
    }
   ],
   "source": [
    "train_dataset"
   ]
  },
  {
   "cell_type": "markdown",
   "metadata": {},
   "source": [
    "### DataLoaders\n",
    "\n",
    "Pytorch Geometric has its own dataloaders. It allows for efficient batching of graphs by using the fact that all of the PyG operations rely on sparse implementations. By taking all graphs and essentially putting them into on large batch graph, the algorithms dont have to keep special track of batch examples as long as the operations are restricted to follow the graph structure."
   ]
  },
  {
   "cell_type": "code",
   "execution_count": 5,
   "metadata": {},
   "outputs": [],
   "source": [
    "from torch_geometric.loader import DataLoader\n",
    "batch_size = 32\n",
    "train_dataloader = DataLoader(train_dataset, batch_size=batch_size, drop_last=False, shuffle=True, num_workers=4)\n",
    "dev_dataloader = DataLoader(dev_dataset, batch_size=batch_size, drop_last=False, shuffle=False, num_workers=4)\n"
   ]
  },
  {
   "cell_type": "markdown",
   "metadata": {},
   "source": [
    "## Predefined models\n",
    "\n",
    "We can build a GNN using the pre-existing [models](https://pytorch-geometric.readthedocs.io/en/latest/modules/nn.html#models) in Pytorch Geometric. These implements a handful of successful models from the litterature. We will look use the updated Graph Attention Networks from [“How Attentive are Graph Attention Networks?”](https://arxiv.org/abs/2105.14491).\n",
    "Below is a the signature of the constructur and an explanation of the arguments:\n",
    "\n",
    "```python\n",
    "class GAT(in_channels: int, hidden_channels: int, num_layers: int, out_channels: Optional[int] = None, dropout: float = 0.0, act: Optional[Union[str, Callable]] = 'relu', act_first: bool = False, act_kwargs: Optional[Dict[str, Any]] = None, norm: Optional[Union[str, Callable]] = None, norm_kwargs: Optional[Dict[str, Any]] = None, jk: Optional[str] = None, **kwargs)\n",
    "```\n",
    "\n",
    " - **in_channels** (int or tuple) – Size of each input sample, or -1 to derive the size from the first input(s) to the forward method. A tuple corresponds to the sizes of source and target dimensionalities.\n",
    " - **hidden_channels** (int) – Size of each hidden sample.\n",
    " - **num_layers** (int) – Number of message passing layers.\n",
    " - **out_channels** (int, optional) – If not set to None, will apply a final linear transformation to convert hidden node embeddings to output size out_channels. (default: None)\n",
    " - **v2** (bool, optional) – If set to True, will make use of GATv2Conv rather than GATConv. (default: False)\n",
    " - **dropout** (float, optional) – Dropout probability. (default: 0.)\n",
    " - **act** (str or Callable, optional) – The non-linear activation function to use. (default: \"relu\")\n",
    " - **act_first** (bool, optional) – If set to True, activation is applied before normalization. (default: False)\n",
    " - **act_kwargs** (Dict[str, Any], optional) – Arguments passed to the respective activation function defined by act. (default: None)\n",
    " - **norm** (str or Callable, optional) – The normalization function to use. (default: None)\n",
    " - **norm_kwargs** (Dict[str, Any], optional) – Arguments passed to the respective normalization function defined by norm. (default: None)\n",
    " - **jk** (str, optional) – The Jumping Knowledge mode. If specified, the model will additionally apply a final linear transformation to transform node embeddings to the expected output feature dimensionality. (None, \"last\", \"cat\", \"max\", \"lstm\"). (default: None)\n",
    " - ****kwargs** (optional) – Additional arguments of conv.GATConv or conv.GATv2Conv.\n",
    "\n",
    "We will create a separate configuration class which encapsulates the important arguments of this class. Many of arguments are shared between different prebuilt models, and you can experiment with replacing the GAT class with some other (e.g. GIN or GCN)."
   ]
  },
  {
   "cell_type": "code",
   "execution_count": 6,
   "metadata": {},
   "outputs": [],
   "source": [
    "from dataclasses import dataclass\n",
    "from typing import Type\n",
    "\n",
    "import torch\n",
    "#import lightning.pytorch as pl\n",
    "from torch_geometric.nn import global_mean_pool\n",
    "\n",
    "\n",
    "@dataclass\n",
    "class PANDaGATConfig:\n",
    "    d_model: int\n",
    "    n_layers: int\n",
    "    dropout_rate: float\n",
    "\n",
    "\n",
    "class LightningPANDaGAT(torch.nn.Module):\n",
    "    def __init__(self, node_type_map, num_classes, config: PANDaGATConfig):\n",
    "        super().__init__()\n",
    "        self.node_type_map = node_type_map\n",
    "        self.config = config\n",
    "        self.num_classes = num_classes\n",
    "        \n",
    "        self.node_type_embedding = torch.nn.Embedding(len(node_type_map), config.d_model)\n",
    "        self.gnn_encoder = torch_geometric.nn.GCN(in_channels=config.d_model, \n",
    "                                                  hidden_channels=config.d_model, \n",
    "                                                  num_layers=config.n_layers, \n",
    "                                                  dropout=config.dropout_rate, \n",
    "                                                  norm=None, # Adding a layer norm might be useful\n",
    "                                                  norm_kwargs=None)\n",
    "        self.output_head = torch.nn.Sequential(torch.nn.Linear(config.d_model, config.d_model), \n",
    "                                               torch.nn.ReLU(), \n",
    "                                               torch.nn.Dropout(config.dropout_rate), \n",
    "                                               torch.nn.Linear(config.d_model, num_classes))\n",
    "\n",
    "    def forward(self, batch):\n",
    "        # X contains our node attributes. In our case it's the classes assigned to each node. We need to embed them first:\n",
    "        x = self.node_type_embedding(batch.x)\n",
    "        x = self.gnn_encoder(x=x, edge_index=batch.edge_index)\n",
    "        x = global_mean_pool(x, batch.batch)\n",
    "        \n",
    "        predictions = self.output_head(x)\n",
    "\n",
    "        return predictions\n",
    "\n",
    "    def loss_on_batch(self, batch):\n",
    "        target = batch.y\n",
    "\n",
    "        predictions = self(batch)\n",
    "        loss = torch.nn.functional.cross_entropy(predictions, target)\n",
    "\n",
    "        return loss\n",
    "    \n",
    "    def loss_and_acc_on_batch(self, batch):\n",
    "        target = batch.y\n",
    "\n",
    "        predictions = self(batch)\n",
    "        loss = torch.nn.functional.cross_entropy(predictions, target)\n",
    "\n",
    "        correct_predictions = predictions.detach().argmax(dim=-1) == target\n",
    "        accuracy = torch.mean(correct_predictions.to(dtype=torch.float)).item()\n",
    "\n",
    "        return loss, accuracy\n",
    "    \n",
    "    def training_step(self, batch, batch_idx):\n",
    "        # training_step defines the train loop.\n",
    "        training_loss = self.loss_on_batch(batch)\n",
    "        return training_loss\n",
    "\n",
    "    def configure_optimizers(self):\n",
    "        optimizer = torch.optim.AdamW(self.parameters(), lr=1e-3)\n",
    "        return optimizer\n",
    "\n",
    "    def test_step(self, batch, batch_idx):\n",
    "        # this is the test loop\n",
    "        test_loss = self.loss_on_batch(batch).item()\n",
    "        #self.log(\"test_loss\", test_loss)\n",
    "        return test_loss\n",
    "\n",
    "    def validation_step(self, batch, batch_idx):\n",
    "        # this is the dev/validation loop\n",
    "        val_loss, accuracy = self.loss_and_acc_on_batch(batch)\n",
    "        #self.log(\"val_loss\", val_loss.item())\n",
    "        #self.log(\"val_accuracy\", accuracy)\n",
    "        return val_loss\n",
    "\n",
    "    def predict_step(self, batch, batch_idx):\n",
    "        targets = batch.y\n",
    "        predictions = self(batch)\n",
    "\n",
    "        return (predictions.detach().argmax(dim=-1), targets)\n",
    "        \n",
    "\n"
   ]
  },
  {
   "cell_type": "code",
   "execution_count": 7,
   "metadata": {},
   "outputs": [
    {
     "data": {
      "text/plain": [
       "LightningPANDaGAT(\n",
       "  (node_type_embedding): Embedding(5, 32)\n",
       "  (gnn_encoder): GCN(32, 32, num_layers=4)\n",
       "  (output_head): Sequential(\n",
       "    (0): Linear(in_features=32, out_features=32, bias=True)\n",
       "    (1): ReLU()\n",
       "    (2): Dropout(p=0.1, inplace=False)\n",
       "    (3): Linear(in_features=32, out_features=6, bias=True)\n",
       "  )\n",
       ")"
      ]
     },
     "execution_count": 7,
     "metadata": {},
     "output_type": "execute_result"
    }
   ],
   "source": [
    "import torch_geometric\n",
    "\n",
    "d_model = 32\n",
    "\n",
    "gnn_config = PANDaGATConfig(\n",
    "    d_model=d_model,\n",
    "    n_layers=4,\n",
    "    dropout_rate=0.1,\n",
    ")\n",
    "num_classes = train_dataset.num_classes\n",
    "\n",
    "model = LightningPANDaGAT(train_dataset.node_type_map, num_classes, gnn_config)\n",
    "\n",
    "device = torch.device('cuda')\n",
    "model.to(device)"
   ]
  },
  {
   "cell_type": "code",
   "execution_count": 8,
   "metadata": {},
   "outputs": [
    {
     "data": {
      "application/vnd.jupyter.widget-view+json": {
       "model_id": "8ac1b600cf694217baeb1729cce22697",
       "version_major": 2,
       "version_minor": 0
      },
      "text/plain": [
       "Epoch:   0%|          | 0/10 [00:00<?, ?it/s]"
      ]
     },
     "metadata": {},
     "output_type": "display_data"
    },
    {
     "data": {
      "application/vnd.jupyter.widget-view+json": {
       "model_id": "1621d78bb4b94eb5b326223316719c0c",
       "version_major": 2,
       "version_minor": 0
      },
      "text/plain": [
       "Training batch:   0%|          | 0/50 [00:00<?, ?it/s]"
      ]
     },
     "metadata": {},
     "output_type": "display_data"
    },
    {
     "data": {
      "application/vnd.jupyter.widget-view+json": {
       "model_id": "04df61976b9b4e2c8754e62eebfddb8e",
       "version_major": 2,
       "version_minor": 0
      },
      "text/plain": [
       "Dev batch:   0%|          | 0/7 [00:00<?, ?it/s]"
      ]
     },
     "metadata": {},
     "output_type": "display_data"
    }
   ],
   "source": [
    "from tqdm.notebook import tqdm, trange\n",
    "max_epochs = 10\n",
    "optimizer = model.configure_optimizers()\n",
    "\n",
    "epoch_pbar = tqdm(total=max_epochs, desc='Epoch', leave=True)\n",
    "train_pbar = tqdm(total=len(train_dataloader), desc='Training batch', leave=True)\n",
    "dev_pbar = tqdm(total=len(dev_dataloader), desc='Dev batch', leave=True)\n",
    "for epoch in range(max_epochs):\n",
    "    for i,batch in enumerate(train_dataloader):\n",
    "        optimizer.zero_grad()\n",
    "        loss = model.training_step(batch.to(device), i)\n",
    "\n",
    "        loss.backward()\n",
    "        optimizer.step()\n",
    "        train_pbar.update()\n",
    "    validation_losses = []\n",
    "    for i,batch in enumerate(dev_dataloader):\n",
    "        with torch.no_grad():\n",
    "            loss = model.validation_step(batch.to(device), i)\n",
    "            validation_losses.append(loss.item())\n",
    "        dev_pbar.update()\n",
    "\n",
    "    validation_loss = np.mean(validation_losses)\n",
    "    epoch_pbar.set_description(f\"Epoch (previous dev loss:{validation_loss})\")\n",
    "    epoch_pbar.update()\n",
    "    train_pbar.reset()\n",
    "    dev_pbar.reset()"
   ]
  },
  {
   "cell_type": "code",
   "execution_count": 9,
   "metadata": {},
   "outputs": [
    {
     "data": {
      "application/vnd.jupyter.widget-view+json": {
       "model_id": "7612ead1d1c641fa905684d7aaa1fdd1",
       "version_major": 2,
       "version_minor": 0
      },
      "text/plain": [
       "Test batch:   0%|          | 0/7 [00:00<?, ?it/s]"
      ]
     },
     "metadata": {},
     "output_type": "display_data"
    }
   ],
   "source": [
    "test_dataloader = DataLoader(test_dataset, batch_size=32, drop_last=False, shuffle=False, num_workers=4)\n",
    "predictions = []\n",
    "targets = []\n",
    "for i, test_batch in enumerate(tqdm(test_dataloader, desc=\"Test batch\")):\n",
    "    batch_predictions, batch_targets = model.predict_step(test_batch.to(device), i)\n",
    "    predictions.append(batch_predictions.cpu().numpy())\n",
    "    targets.append(batch_targets.cpu().numpy())\n",
    "predictions = np.concatenate(predictions)\n",
    "targets = np.concatenate(targets)"
   ]
  },
  {
   "cell_type": "code",
   "execution_count": 10,
   "metadata": {},
   "outputs": [
    {
     "data": {
      "image/png": "[encoded data removed]",
      "text/plain": [
       "<Figure size 640x480 with 2 Axes>"
      ]
     },
     "metadata": {},
     "output_type": "display_data"
    }
   ],
   "source": [
    "from sklearn.metrics import confusion_matrix, ConfusionMatrixDisplay\n",
    "import matplotlib.pyplot as plt\n",
    "major_confusion = confusion_matrix(predictions, targets)\n",
    "ConfusionMatrixDisplay(major_confusion).plot()\n",
    "plt.title(\"ISUP Grade confusion matrix\")\n",
    "plt.show()"
   ]
  },
  {
   "cell_type": "markdown",
   "metadata": {},
   "source": [
    "## Finer control with GConvLayers\n",
    "\n",
    "The implemented models in Pytorch Geometric covers some basic cases, but we might often wan't to tweak the architecture of the network. We will now look at how we can implement our own Graph Neural Networks by using the different Graph Convolution Layers of Pytorch Geometric.\n",
    "\n",
    "### Pytorch Lightning\n",
    "\n",
    "We will be using [Pytorch Lightning](https://github.com/Lightning-AI/lightning) to simplify boiler plate code for training. It gives us many features without us having to implement them such as checkpointing, logging, early stopping, learning rate scheduling etc. Unfortunately, the current version doesn't work well with the predefined Pytorch Geometric models, which is the reason why we didn't use them in the example above. The issue seems to be that Pytorch Lightning tries to use the Pytorch JIT decorated functions of the BaseGNN which makes memory consumption blow up."
   ]
  },
  {
   "cell_type": "code",
   "execution_count": 26,
   "metadata": {},
   "outputs": [],
   "source": [
    "from dataclasses import dataclass\n",
    "from typing import Type\n",
    "\n",
    "import torch\n",
    "import lightning.pytorch as pl\n",
    "from torch_geometric.nn import global_mean_pool, global_max_pool\n",
    "\n",
    "@dataclass\n",
    "class LayerConfig:\n",
    "    layer_dim: int    \n",
    "    conv_module: Type\n",
    "    nonlinearity: Type\n",
    "    dropout_rate: float\n",
    "\n",
    "@dataclass\n",
    "class PANDaGNNConfig:\n",
    "    d_model: int\n",
    "    output_head_ffn_dim: int\n",
    "    n_gnn_layers: int\n",
    "    dropout_rate: float\n",
    "    gnn_layer_type: Type\n",
    "    gnn_layer_config: LayerConfig\n",
    "    residual_connections: bool = True\n",
    "    \n",
    "\n",
    "class GNNLayer(torch.nn.Module):\n",
    "    \"Implements a GNN block, including nonlinearity and normalizations\"\n",
    "    def __init__(self, input_dim, config: LayerConfig):\n",
    "        super().__init__()\n",
    "        self.input_dim = input_dim\n",
    "        self.output_dim = config.layer_dim\n",
    "        self.config = config\n",
    "        self.conv_layer = config.conv_module(self.input_dim, self.output_dim)\n",
    "        self.nonlinearity = config.nonlinearity()\n",
    "        self.dropout = torch.nn.Dropout(config.dropout_rate)\n",
    "        \n",
    "    def forward(self, x, batch):\n",
    "        x = self.conv_layer(x, batch.edge_index)\n",
    "        x = self.nonlinearity(x)\n",
    "        x = self.dropout(x)\n",
    "        return x\n",
    "\n",
    "\n",
    "class LightningPANDaGNN(pl.LightningModule):\n",
    "    def __init__(self, node_type_map, num_classes, config: PANDaGNNConfig):\n",
    "        super().__init__()\n",
    "        self.node_type_map = node_type_map\n",
    "        self.config = config\n",
    "        self.num_classes = num_classes\n",
    "        \n",
    "        self.node_type_embedding = torch.nn.Embedding(len(node_type_map), config.d_model)\n",
    "        dim_from_below = config.d_model\n",
    "        self.gnn_layers = torch.nn.ModuleList()\n",
    "\n",
    "        for i in range(config.n_gnn_layers):\n",
    "            layer = self.config.gnn_layer_type(dim_from_below, self.config.gnn_layer_config)\n",
    "            dim_from_below = layer.output_dim\n",
    "            self.gnn_layers.append(layer)\n",
    "\n",
    "        self.output_head = torch.nn.Sequential(torch.nn.Linear(dim_from_below, config.output_head_ffn_dim), torch.nn.ReLU(), torch.nn.Dropout(config.dropout_rate), torch.nn.Linear(config.output_head_ffn_dim, num_classes))\n",
    "\n",
    "    def forward(self, batch):\n",
    "        # X contains our node attributes. In our case it's the classes assigned to each node. We need to embed them first:\n",
    "        x = self.node_type_embedding(batch.x)\n",
    "        for gnn_layer in self.gnn_layers:\n",
    "            if self.config.residual_connections:\n",
    "                x = x + gnn_layer(x, batch)\n",
    "            else:\n",
    "                x = gnn_layer(x, batch)\n",
    "\n",
    "        x = global_mean_pool(x, batch.batch)\n",
    "        \n",
    "        predictions = self.output_head(x)\n",
    "\n",
    "        return predictions\n",
    "\n",
    "    def loss_on_batch(self, batch):\n",
    "        target = batch.y\n",
    "\n",
    "        predictions = self(batch)\n",
    "        loss = torch.nn.functional.cross_entropy(predictions, target)\n",
    "\n",
    "        return loss\n",
    "    \n",
    "    def loss_and_acc_on_batch(self, batch):\n",
    "        target = batch.y\n",
    "\n",
    "        predictions = self(batch)\n",
    "        loss = torch.nn.functional.cross_entropy(predictions, target)\n",
    "\n",
    "        correct_predictions = predictions.detach().argmax(dim=-1) == target\n",
    "        accuracy = torch.mean(correct_predictions.to(dtype=torch.float)).item()\n",
    "\n",
    "        return loss, accuracy\n",
    "    \n",
    "    def training_step(self, batch, batch_idx):\n",
    "        # training_step defines the train loop.\n",
    "        self.train()\n",
    "        training_loss = self.loss_on_batch(batch)\n",
    "        self.log(\"train_loss\", training_loss.item())\n",
    "        return training_loss\n",
    "\n",
    "    def configure_optimizers(self):\n",
    "        optimizer = torch.optim.AdamW(self.parameters(), lr=3e-4)\n",
    "        return optimizer\n",
    "\n",
    "    def test_step(self, batch, batch_idx):\n",
    "        # this is the test loop\n",
    "        self.eval()\n",
    "        test_loss = self.loss_on_batch(batch)\n",
    "        self.log(\"test_loss\", test_loss)\n",
    "\n",
    "    def validation_step(self, batch, batch_idx):\n",
    "        # this is the dev/validation loop\n",
    "        self.eval()\n",
    "        val_loss, accuracy = self.loss_and_acc_on_batch(batch)\n",
    "        self.log(\"val_loss\", val_loss)\n",
    "        self.log(\"val_accuracy\", accuracy)\n",
    "\n",
    "    def predict_step(self, batch, batch_idx):\n",
    "        self.eval()\n",
    "        targets = batch.y\n",
    "        predictions = self(batch)\n",
    "\n",
    "        return (predictions.detach().argmax(dim=-1), targets)\n",
    "        \n",
    "\n"
   ]
  },
  {
   "cell_type": "code",
   "execution_count": 27,
   "metadata": {},
   "outputs": [],
   "source": [
    "import torch_geometric\n",
    "\n",
    "d_model = 32\n",
    "\n",
    "layer_config = LayerConfig(layer_dim=d_model, \n",
    "                           conv_module=torch_geometric.nn.GCNConv, \n",
    "                          nonlinearity=torch.nn.ReLU, \n",
    "                          dropout_rate=0.1)\n",
    "gnn_config = PANDaGNNConfig(\n",
    "    d_model=d_model,\n",
    "    output_head_ffn_dim=d_model,\n",
    "    n_gnn_layers=4,\n",
    "    dropout_rate=0.1,\n",
    "    gnn_layer_type=GNNLayer,\n",
    "    gnn_layer_config=layer_config,\n",
    "    residual_connections=True\n",
    ")\n",
    "num_classes = train_dataset.num_classes\n",
    "\n",
    "model = LightningPANDaGNN(train_dataset.node_type_map, num_classes, gnn_config)"
   ]
  },
  {
   "cell_type": "code",
   "execution_count": 28,
   "metadata": {},
   "outputs": [
    {
     "name": "stderr",
     "output_type": "stream",
     "text": [
      "/home/erik/mambaforge/envs/aida_workshop_gnn/lib/python3.9/site-packages/lightning/fabric/connector.py:554: UserWarning: 16 is supported for historical reasons but its usage is discouraged. Please set your precision to 16-mixed instead!\n",
      "  rank_zero_warn(\n",
      "Using 16bit Automatic Mixed Precision (AMP)\n",
      "GPU available: True (cuda), used: True\n",
      "TPU available: False, using: 0 TPU cores\n",
      "IPU available: False, using: 0 IPUs\n",
      "HPU available: False, using: 0 HPUs\n"
     ]
    }
   ],
   "source": [
    "from pathlib import Path\n",
    "import sys\n",
    "\n",
    "from lightning import Trainer\n",
    "from lightning.pytorch.callbacks import ModelCheckpoint\n",
    "from lightning.pytorch.callbacks.lr_monitor import LearningRateMonitor\n",
    "from lightning.pytorch.callbacks.early_stopping import EarlyStopping\n",
    "\n",
    "CHECKPOINT_PATH = Path('../models')\n",
    "\n",
    "\n",
    "trainer = Trainer(\n",
    "        default_root_dir = CHECKPOINT_PATH,  # Where to save models\n",
    "        # We run on a single GPU (if possible)\n",
    "        accelerator=\"auto\",\n",
    "        devices=1,\n",
    "        precision=16,\n",
    "        # How many epochs to train for if no patience is set\n",
    "        max_epochs=10,\n",
    "        callbacks=[\n",
    "            ModelCheckpoint(\n",
    "                save_weights_only=True, mode=\"min\", monitor=\"val_loss\"\n",
    "            ),  # Save the best checkpoint based on the maximum val_acc recorded. Saves only weights and not optimizer\n",
    "            LearningRateMonitor(\"epoch\"),\n",
    "        ],  # Log learning rate every epoch\n",
    "    )  # In case your notebook crashes due to the progress bar, consider increasing the refresh rate\n"
   ]
  },
  {
   "cell_type": "code",
   "execution_count": 29,
   "metadata": {},
   "outputs": [],
   "source": [
    "from torch_geometric.loader import DataLoader\n",
    "batch_size = 32\n",
    "train_dataloader = DataLoader(train_dataset, batch_size=batch_size, drop_last=False, shuffle=True, num_workers=4)\n",
    "dev_dataloader = DataLoader(dev_dataset, batch_size=batch_size, drop_last=False, shuffle=False, num_workers=4)\n"
   ]
  },
  {
   "cell_type": "code",
   "execution_count": 30,
   "metadata": {},
   "outputs": [
    {
     "data": {
      "text/plain": [
       "Reusing TensorBoard on port 6006 (pid 27641), started 0:02:28 ago. (Use '!kill 27641' to kill it.)"
      ]
     },
     "metadata": {},
     "output_type": "display_data"
    },
    {
     "data": {
      "text/html": [
       "\n",
       "      <iframe id=\"tensorboard-frame-b9686c93653b3a64\" width=\"100%\" height=\"800\" frameborder=\"0\">\n",
       "      </iframe>\n",
       "      <script>\n",
       "        (function() {\n",
       "          const frame = document.getElementById(\"tensorboard-frame-b9686c93653b3a64\");\n",
       "          const url = new URL(\"http://localhost\");\n",
       "          const port = 6006;\n",
       "          if (port) {\n",
       "            url.port = port;\n",
       "          }\n",
       "          frame.src = url;\n",
       "        })();\n",
       "      </script>\n",
       "    "
      ],
      "text/plain": [
       "<IPython.core.display.HTML object>"
      ]
     },
     "metadata": {},
     "output_type": "display_data"
    }
   ],
   "source": [
    "%reload_ext tensorboard\n",
    "%tensorboard --logdir=../models/lightning_logs/"
   ]
  },
  {
   "cell_type": "code",
   "execution_count": 31,
   "metadata": {},
   "outputs": [
    {
     "name": "stderr",
     "output_type": "stream",
     "text": [
      "LOCAL_RANK: 0 - CUDA_VISIBLE_DEVICES: [0]\n",
      "\n",
      "  | Name                | Type       | Params\n",
      "---------------------------------------------------\n",
      "0 | node_type_embedding | Embedding  | 160   \n",
      "1 | gnn_layers          | ModuleList | 4.2 K \n",
      "2 | output_head         | Sequential | 1.3 K \n",
      "---------------------------------------------------\n",
      "5.6 K     Trainable params\n",
      "0         Non-trainable params\n",
      "5.6 K     Total params\n",
      "0.023     Total estimated model params size (MB)\n"
     ]
    },
    {
     "data": {
      "application/vnd.jupyter.widget-view+json": {
       "model_id": "d5387c7e2eba4f399363e766788df39d",
       "version_major": 2,
       "version_minor": 0
      },
      "text/plain": [
       "Sanity Checking: 0it [00:00, ?it/s]"
      ]
     },
     "metadata": {},
     "output_type": "display_data"
    },
    {
     "data": {
      "application/vnd.jupyter.widget-view+json": {
       "model_id": "f2498d3802f14d9eb2da62c81f595652",
       "version_major": 2,
       "version_minor": 0
      },
      "text/plain": [
       "Training: 0it [00:00, ?it/s]"
      ]
     },
     "metadata": {},
     "output_type": "display_data"
    },
    {
     "data": {
      "application/vnd.jupyter.widget-view+json": {
       "model_id": "ea81b7d40ff04706a09db36e5a037211",
       "version_major": 2,
       "version_minor": 0
      },
      "text/plain": [
       "Validation: 0it [00:00, ?it/s]"
      ]
     },
     "metadata": {},
     "output_type": "display_data"
    },
    {
     "data": {
      "application/vnd.jupyter.widget-view+json": {
       "model_id": "2a5a10a3f6a2429e891d6f7dc566eb4c",
       "version_major": 2,
       "version_minor": 0
      },
      "text/plain": [
       "Validation: 0it [00:00, ?it/s]"
      ]
     },
     "metadata": {},
     "output_type": "display_data"
    },
    {
     "data": {
      "application/vnd.jupyter.widget-view+json": {
       "model_id": "dce7ae172ef34bacb8600df3007a7a2b",
       "version_major": 2,
       "version_minor": 0
      },
      "text/plain": [
       "Validation: 0it [00:00, ?it/s]"
      ]
     },
     "metadata": {},
     "output_type": "display_data"
    },
    {
     "data": {
      "application/vnd.jupyter.widget-view+json": {
       "model_id": "e981cb5977b24c9eb219246de46a9631",
       "version_major": 2,
       "version_minor": 0
      },
      "text/plain": [
       "Validation: 0it [00:00, ?it/s]"
      ]
     },
     "metadata": {},
     "output_type": "display_data"
    },
    {
     "data": {
      "application/vnd.jupyter.widget-view+json": {
       "model_id": "5417fcb8aabc4981927c1d780f61f744",
       "version_major": 2,
       "version_minor": 0
      },
      "text/plain": [
       "Validation: 0it [00:00, ?it/s]"
      ]
     },
     "metadata": {},
     "output_type": "display_data"
    },
    {
     "data": {
      "application/vnd.jupyter.widget-view+json": {
       "model_id": "772129187b4948268c3540df555a3ead",
       "version_major": 2,
       "version_minor": 0
      },
      "text/plain": [
       "Validation: 0it [00:00, ?it/s]"
      ]
     },
     "metadata": {},
     "output_type": "display_data"
    },
    {
     "data": {
      "application/vnd.jupyter.widget-view+json": {
       "model_id": "27108687c7d0478bb6d50d3db377af1a",
       "version_major": 2,
       "version_minor": 0
      },
      "text/plain": [
       "Validation: 0it [00:00, ?it/s]"
      ]
     },
     "metadata": {},
     "output_type": "display_data"
    },
    {
     "data": {
      "application/vnd.jupyter.widget-view+json": {
       "model_id": "e4888f99037748ba9ea1c464eb7f2c99",
       "version_major": 2,
       "version_minor": 0
      },
      "text/plain": [
       "Validation: 0it [00:00, ?it/s]"
      ]
     },
     "metadata": {},
     "output_type": "display_data"
    },
    {
     "data": {
      "application/vnd.jupyter.widget-view+json": {
       "model_id": "ed35b1b7de7448fa8c07256529affb43",
       "version_major": 2,
       "version_minor": 0
      },
      "text/plain": [
       "Validation: 0it [00:00, ?it/s]"
      ]
     },
     "metadata": {},
     "output_type": "display_data"
    },
    {
     "data": {
      "application/vnd.jupyter.widget-view+json": {
       "model_id": "9e60bc1265d2411bbfb0daa8710bbdc2",
       "version_major": 2,
       "version_minor": 0
      },
      "text/plain": [
       "Validation: 0it [00:00, ?it/s]"
      ]
     },
     "metadata": {},
     "output_type": "display_data"
    },
    {
     "name": "stderr",
     "output_type": "stream",
     "text": [
      "`Trainer.fit` stopped: `max_epochs=10` reached.\n"
     ]
    }
   ],
   "source": [
    "trainer.fit(model, train_dataloader, dev_dataloader)\n"
   ]
  },
  {
   "cell_type": "code",
   "execution_count": 32,
   "metadata": {},
   "outputs": [
    {
     "name": "stderr",
     "output_type": "stream",
     "text": [
      "/home/erik/mambaforge/envs/aida_workshop_gnn/lib/python3.9/site-packages/lightning/pytorch/trainer/connectors/checkpoint_connector.py:149: UserWarning: `.predict(ckpt_path=None)` was called without a model. The best model of the previous `fit` call will be used. You can pass `.predict(ckpt_path='best')` to use the best model or `.predict(ckpt_path='last')` to use the last model. If you pass a value, this warning will be silenced.\n",
      "  rank_zero_warn(\n",
      "Restoring states from the checkpoint path at ../models/lightning_logs/version_17/checkpoints/epoch=6-step=350.ckpt\n",
      "LOCAL_RANK: 0 - CUDA_VISIBLE_DEVICES: [0]\n",
      "Loaded model weights from the checkpoint at ../models/lightning_logs/version_17/checkpoints/epoch=6-step=350.ckpt\n"
     ]
    },
    {
     "data": {
      "application/vnd.jupyter.widget-view+json": {
       "model_id": "0632ddb9178746d8992845f478de2562",
       "version_major": 2,
       "version_minor": 0
      },
      "text/plain": [
       "Predicting: 0it [00:00, ?it/s]"
      ]
     },
     "metadata": {},
     "output_type": "display_data"
    }
   ],
   "source": [
    "test_dataloader = DataLoader(test_dataset, batch_size=32, drop_last=False, shuffle=False, num_workers=4)\n",
    "predictions = trainer.predict(dataloaders=test_dataloader)\n",
    "predictions, targets = zip(*predictions)\n",
    "predictions = torch.cat(predictions)\n",
    "targets = torch.cat(targets)"
   ]
  },
  {
   "cell_type": "code",
   "execution_count": 33,
   "metadata": {},
   "outputs": [
    {
     "data": {
      "image/png": "[encoded data removed]",
      "text/plain": [
       "<Figure size 640x480 with 2 Axes>"
      ]
     },
     "metadata": {},
     "output_type": "display_data"
    }
   ],
   "source": [
    "from sklearn.metrics import confusion_matrix, ConfusionMatrixDisplay\n",
    "import matplotlib.pyplot as plt\n",
    "major_confusion = confusion_matrix(predictions, targets)\n",
    "ConfusionMatrixDisplay(major_confusion).plot()\n",
    "plt.show()"
   ]
  },
  {
   "cell_type": "markdown",
   "metadata": {},
   "source": [
    "## Changing Conv layer\n",
    "\n",
    "Here we will look at how we can change the convolution layer we use and whether that will have some effect. A list of available layers can be found at the PyG [documentation](https://pytorch-geometric.readthedocs.io/en/latest/modules/nn.html#convolutional-layers)."
   ]
  },
  {
   "cell_type": "code",
   "execution_count": null,
   "metadata": {},
   "outputs": [],
   "source": [
    "import torch_geometric\n",
    "\n",
    "d_model = 128\n",
    "\n",
    "layer_config = LayerConfig(layer_dim=d_model, \n",
    "                           conv_module=torch_geometric.nn.GATv2Conv, \n",
    "                           nonlinearity=torch.nn.ReLU, \n",
    "                           dropout_rate=0.5)\n",
    "gnn_config = PANDaGNNConfig(\n",
    "    d_model=d_model,\n",
    "    output_head_ffn_dim=d_model,\n",
    "    n_gnn_layers=6,\n",
    "    dropout_rate=0.5,\n",
    "    gnn_layer_type=GNNLayer,\n",
    "    gnn_layer_config=layer_config,\n",
    "    residual_connections=True\n",
    ")\n",
    "num_classes = train_dataset.num_classes\n",
    "\n",
    "model = LightningPANDaGNN(train_dataset.node_type_map, num_classes, gnn_config)"
   ]
  },
  {
   "cell_type": "code",
   "execution_count": null,
   "metadata": {},
   "outputs": [
    {
     "name": "stderr",
     "output_type": "stream",
     "text": [
      "Using 16bit Automatic Mixed Precision (AMP)\n",
      "GPU available: True (cuda), used: True\n",
      "TPU available: False, using: 0 TPU cores\n",
      "IPU available: False, using: 0 IPUs\n",
      "HPU available: False, using: 0 HPUs\n"
     ]
    }
   ],
   "source": [
    "from pathlib import Path\n",
    "import sys\n",
    "\n",
    "from lightning import Trainer\n",
    "from lightning.pytorch.callbacks import ModelCheckpoint\n",
    "from lightning.pytorch.callbacks.lr_monitor import LearningRateMonitor\n",
    "from lightning.pytorch.callbacks.early_stopping import EarlyStopping\n",
    "\n",
    "CHECKPOINT_PATH = Path('../models')\n",
    "\n",
    "\n",
    "trainer = Trainer(\n",
    "        default_root_dir = CHECKPOINT_PATH,  # Where to save models\n",
    "        # We run on a single GPU (if possible)\n",
    "        accelerator=\"auto\",\n",
    "        devices=1,\n",
    "        precision=16,\n",
    "        # How many epochs to train for if no patience is set\n",
    "        max_epochs=1000,\n",
    "        #enable_progress_bar=False,\n",
    "        callbacks=[\n",
    "            ModelCheckpoint(\n",
    "                save_weights_only=True, mode=\"min\", monitor=\"val_loss\"\n",
    "            ),  # Save the best checkpoint based on the maximum val_acc recorded. Saves only weights and not optimizer\n",
    "            LearningRateMonitor(\"epoch\"),\n",
    "        ],  # Log learning rate every epoch\n",
    "    )  # In case your notebook crashes due to the progress bar, consider increasing the refresh rate\n"
   ]
  },
  {
   "cell_type": "code",
   "execution_count": null,
   "metadata": {},
   "outputs": [],
   "source": [
    "from torch_geometric.loader import DataLoader\n",
    "batch_size = 8\n",
    "train_dataloader = DataLoader(train_dataset, batch_size=batch_size, drop_last=False, shuffle=True, num_workers=6)\n",
    "dev_dataloader = DataLoader(dev_dataset, batch_size=batch_size, drop_last=False, shuffle=False, num_workers=4)"
   ]
  },
  {
   "cell_type": "code",
   "execution_count": null,
   "metadata": {},
   "outputs": [],
   "source": [
    "trainer.fit(model, train_dataloader, dev_dataloader)\n",
    "\n"
   ]
  },
  {
   "cell_type": "code",
   "execution_count": null,
   "metadata": {},
   "outputs": [
    {
     "data": {
      "text/plain": [
       "Reusing TensorBoard on port 6006 (pid 15133), started 0:24:22 ago. (Use '!kill 15133' to kill it.)"
      ]
     },
     "metadata": {},
     "output_type": "display_data"
    },
    {
     "data": {
      "text/html": [
       "\n",
       "      <iframe id=\"tensorboard-frame-2895aecb3a0619b8\" width=\"100%\" height=\"800\" frameborder=\"0\">\n",
       "      </iframe>\n",
       "      <script>\n",
       "        (function() {\n",
       "          const frame = document.getElementById(\"tensorboard-frame-2895aecb3a0619b8\");\n",
       "          const url = new URL(\"http://localhost\");\n",
       "          const port = 6006;\n",
       "          if (port) {\n",
       "            url.port = port;\n",
       "          }\n",
       "          frame.src = url;\n",
       "        })();\n",
       "      </script>\n",
       "    "
      ],
      "text/plain": [
       "<IPython.core.display.HTML object>"
      ]
     },
     "metadata": {},
     "output_type": "display_data"
    }
   ],
   "source": [
    "%reload_ext tensorboard\n",
    "%tensorboard --logdir=../models/lightning_logs/"
   ]
  },
  {
   "cell_type": "code",
   "execution_count": null,
   "metadata": {},
   "outputs": [
    {
     "name": "stderr",
     "output_type": "stream",
     "text": [
      "/home/erik/mambaforge/envs/aida_workshop_gnn/lib/python3.9/site-packages/lightning/pytorch/trainer/connectors/checkpoint_connector.py:149: UserWarning: `.predict(ckpt_path=None)` was called without a model. The best model of the previous `fit` call will be used. You can pass `.predict(ckpt_path='best')` to use the best model or `.predict(ckpt_path='last')` to use the last model. If you pass a value, this warning will be silenced.\n",
      "  rank_zero_warn(\n",
      "Restoring states from the checkpoint path at ../models/lightning_logs/version_15/checkpoints/epoch=73-step=14801.ckpt\n",
      "LOCAL_RANK: 0 - CUDA_VISIBLE_DEVICES: [0]\n",
      "Loaded model weights from the checkpoint at ../models/lightning_logs/version_15/checkpoints/epoch=73-step=14801.ckpt\n"
     ]
    },
    {
     "data": {
      "application/vnd.jupyter.widget-view+json": {
       "model_id": "ade78ee175544e36af55c4956e5eed91",
       "version_major": 2,
       "version_minor": 0
      },
      "text/plain": [
       "Predicting: 0it [00:00, ?it/s]"
      ]
     },
     "metadata": {},
     "output_type": "display_data"
    }
   ],
   "source": [
    "test_dataloader = DataLoader(test_dataset, batch_size=32, drop_last=False, shuffle=False, num_workers=4)\n",
    "predictions = trainer.predict(dataloaders=test_dataloader)\n",
    "predictions, targets = zip(*predictions)\n",
    "predictions = torch.cat(predictions)\n",
    "targets = torch.cat(targets)"
   ]
  },
  {
   "cell_type": "code",
   "execution_count": null,
   "metadata": {},
   "outputs": [
    {
     "data": {
      "image/png": "[encoded data removed]",
      "text/plain": [
       "<Figure size 640x480 with 2 Axes>"
      ]
     },
     "metadata": {},
     "output_type": "display_data"
    }
   ],
   "source": [
    "from sklearn.metrics import confusion_matrix, ConfusionMatrixDisplay\n",
    "import matplotlib.pyplot as plt\n",
    "major_confusion = confusion_matrix(predictions, targets)\n",
    "ConfusionMatrixDisplay(major_confusion).plot()\n",
    "plt.show()"
   ]
  },
  {
   "cell_type": "markdown",
   "metadata": {},
   "source": [
    "## Dropping the graph\n",
    "\n",
    "Recall that we started out with a set of coordinates for detected cells in images. This wasn't really a graph, but by taking the distances between all nodes and applying a threshold we induced a graph. We can think of this as _computing_ an adjacency matrix based on some information about the elements of the node set (in this case their positions). We created an adjacency matrix looking something like this:\n",
    "$$\n",
    "\\begin{bmatrix}\n",
    "f(v_1, v_1) & \\dots & f(v_1, v_n)\\\\\n",
    "\\vdots & \\ddots & \\vdots \\\\\n",
    "f(v_n, v_1) & \\dots & f(v_n, v_n)\n",
    "\\end{bmatrix}\n",
    "$$\n",
    "\n",
    "$$\n",
    "\\begin{align*}\n",
    "f(u,v) &= \\begin{cases}\n",
    "    1, & \\text{if } 0 \\lt d(u,v) \\lt r\\\\\n",
    "    0, &\\text{otherwise}\n",
    "\\end{cases}\\\\\n",
    "d(u,v) &= \\lVert u - v \\rVert\n",
    "\\end{align*}\n",
    "$$\n",
    "\n",
    "Where $r$ was the radius we decided on.\n",
    "\n",
    "Instead of thinking of this as a pre-processing step, we can think of it as part of our model, where we recompute the attention matrix after each message propagation. One neural network which implements this idea is the Dynamic Edge Convolution network, which instead of taking a graph of inputs takes a point cloud. Since our dataset already have the positions of all nodes, we don't have to do anything to it, only define a new model.\n",
    "\n",
    "**N.B. the dynamic edge convolution seems to be broken in this implementation, this is left as an illustration**"
   ]
  },
  {
   "cell_type": "code",
   "execution_count": null,
   "metadata": {},
   "outputs": [],
   "source": [
    "from dataclasses import dataclass\n",
    "from typing import Type\n",
    "\n",
    "import torch\n",
    "import lightning.pytorch as pl\n",
    "from torch_geometric.nn import global_mean_pool\n",
    "\n",
    "@dataclass\n",
    "class EdgeConvConfig:\n",
    "    d_model: int\n",
    "    ffn_dim: int\n",
    "    dropout_rate: float\n",
    "    k: int = 5\n",
    "\n",
    "@dataclass\n",
    "class PANDaPointNNConfig:\n",
    "    d_model: int\n",
    "    output_head_ffn_dim: int\n",
    "    n_gnn_layers: int\n",
    "    dropout_rate: float\n",
    "    gnn_layer_type: Type\n",
    "    gnn_layer_config: EdgeConvConfig\n",
    "    residual_connections: bool = True\n",
    "    \n",
    "\n",
    "class EdgeConvNNLayer(torch.nn.Module):\n",
    "    \"Implements a Point NN block, including nonlinearity and normalizations\"\n",
    "    def __init__(self, input_dim, config: EdgeConvConfig):\n",
    "        super().__init__()\n",
    "        self.input_dim = config.d_model\n",
    "        self.output_dim = config.d_model\n",
    "        self.config = config\n",
    "        edge_conv_nn = torch.nn.Sequential(torch.nn.Linear(input_dim, config.ffn_dim), \n",
    "                                           torch.nn.ReLU(), \n",
    "                                           torch.nn.Dropout(config.dropout_rate), \n",
    "                                           torch.nn.Linear(config.ffn_dim, self.output_dim))\n",
    "        self.conv_layer = torch_geometric.nn.DynamicEdgeConv(nn=edge_conv_nn, k=config.k)\n",
    "        self.nonlinearity = torch.nn.ReLU()\n",
    "        self.dropout = torch.nn.Dropout(config.dropout_rate)\n",
    "        \n",
    "    def forward(self, x, batch):\n",
    "        x = self.conv_layer(x, batch.batch)\n",
    "        x = self.nonlinearity(x)\n",
    "        x = self.dropout(x)\n",
    "        return x\n",
    "\n",
    "\n",
    "class LightningPANDaPointNN(pl.LightningModule):\n",
    "    def __init__(self, node_type_map, node_feature_dim, num_classes, config: PANDaPointNNConfig):\n",
    "        super().__init__()\n",
    "        self.node_type_map = node_type_map\n",
    "        self.node_feature_dim = node_feature_dim\n",
    "        self.config = config\n",
    "        self.num_classes = num_classes\n",
    "\n",
    "        # We will concatenate the node embeddings with the node positions. We wish to end up with an\n",
    "        # node feature size of d_model, so we need to set the embedding size to d_model - node_feature_dim\n",
    "        self.embedding_dim = config.d_model - node_feature_dim\n",
    "        self.num_embeddings = len(self.node_type_map)\n",
    "        self.node_type_embedding = torch.nn.Embedding(self.num_embeddings, self.embedding_dim)\n",
    "        \n",
    "        dim_from_below = config.d_model\n",
    "        self.gnn_layers = torch.nn.ModuleList()\n",
    "\n",
    "        for i in range(config.n_gnn_layers):\n",
    "            layer = self.config.gnn_layer_type(dim_from_below, self.config.gnn_layer_config)\n",
    "            dim_from_below = layer.output_dim\n",
    "            self.gnn_layers.append(layer)\n",
    "\n",
    "        self.output_head = torch.nn.Sequential(torch.nn.Linear(dim_from_below, config.output_head_ffn_dim), torch.nn.ReLU(), torch.nn.Dropout(config.dropout_rate), torch.nn.Linear(config.output_head_ffn_dim, num_classes))\n",
    "\n",
    "    def forward(self, batch):\n",
    "        # X contains our node attributes. In our case it's the classes assigned to each node. \n",
    "        # We need to embed them first:\n",
    "        x = self.node_type_embedding(batch.x)\n",
    "        # batch.pos are our positional features. We simply concatenate them to the \n",
    "        # node embeddings along the feature dimension\n",
    "        x = torch.cat([x, batch.pos], dim=-1)\n",
    "        for gnn_layer in self.gnn_layers:\n",
    "            if self.config.residual_connections:\n",
    "                x = x + gnn_layer(x, batch)\n",
    "            else:\n",
    "                x = gnn_layer(x, batch)\n",
    "\n",
    "        x = global_mean_pool(x, batch.batch)\n",
    "        \n",
    "        predictions = self.output_head(x)\n",
    "\n",
    "        return predictions\n",
    "\n",
    "    def loss_on_batch(self, batch):\n",
    "        target = batch.y\n",
    "\n",
    "        predictions = self(batch)\n",
    "        loss = torch.nn.functional.cross_entropy(predictions, target)\n",
    "\n",
    "        return loss\n",
    "    \n",
    "    def loss_and_acc_on_batch(self, batch):\n",
    "        target = batch.y\n",
    "\n",
    "        predictions = self(batch)\n",
    "        loss = torch.nn.functional.cross_entropy(predictions, target)\n",
    "\n",
    "        correct_predictions = predictions.detach().argmax(dim=-1) == target\n",
    "        accuracy = torch.mean(correct_predictions.to(dtype=torch.float)).item()\n",
    "\n",
    "        return loss, accuracy\n",
    "    \n",
    "    def training_step(self, batch, batch_idx):\n",
    "        # training_step defines the train loop.\n",
    "        training_loss = self.loss_on_batch(batch)\n",
    "        return training_loss\n",
    "\n",
    "    def configure_optimizers(self):\n",
    "        optimizer = torch.optim.AdamW(self.parameters(), lr=1e-3)\n",
    "        return optimizer\n",
    "\n",
    "    def test_step(self, batch, batch_idx):\n",
    "        # this is the test loop\n",
    "        test_loss = self.loss_on_batch(batch)\n",
    "        self.log(\"test_loss\", test_loss)\n",
    "\n",
    "    def validation_step(self, batch, batch_idx):\n",
    "        # this is the dev/validation loop\n",
    "        val_loss, accuracy = self.loss_and_acc_on_batch(batch)\n",
    "        self.log(\"val_loss\", val_loss)\n",
    "        self.log(\"val_accuracy\", accuracy)\n",
    "\n",
    "    def predict_step(self, batch, batch_idx):\n",
    "        targets = batch.y\n",
    "        predictions = self(batch)\n",
    "\n",
    "        return (predictions.detach().argmax(dim=-1), targets)\n",
    "        \n",
    "\n"
   ]
  },
  {
   "cell_type": "code",
   "execution_count": null,
   "metadata": {},
   "outputs": [],
   "source": [
    "import torch_geometric\n",
    "\n",
    "d_model = 128\n",
    "\n",
    "\n",
    "layer_config = EdgeConvConfig(d_model=d_model, ffn_dim=d_model, dropout_rate=0.1)\n",
    "                             \n",
    "gnn_config = PANDaPointNNConfig(\n",
    "    d_model=d_model,\n",
    "    output_head_ffn_dim=d_model,\n",
    "    n_gnn_layers=4,\n",
    "    dropout_rate=0.1,\n",
    "    gnn_layer_type=EdgeConvNNLayer,\n",
    "    gnn_layer_config=layer_config,\n",
    "    residual_connections=True\n",
    ")\n",
    "num_classes = train_dataset.num_classes\n",
    "node_position_dimension = train_dataset[0].pos.shape[1] # We take the position array shape for the first element in our dataset\n",
    "model = LightningPANDaPointNN(train_dataset.node_type_map, node_position_dimension, num_classes, gnn_config)"
   ]
  },
  {
   "cell_type": "code",
   "execution_count": null,
   "metadata": {},
   "outputs": [
    {
     "name": "stderr",
     "output_type": "stream",
     "text": [
      "Using 16bit Automatic Mixed Precision (AMP)\n",
      "GPU available: True (cuda), used: True\n",
      "TPU available: False, using: 0 TPU cores\n",
      "IPU available: False, using: 0 IPUs\n",
      "HPU available: False, using: 0 HPUs\n"
     ]
    }
   ],
   "source": [
    "from pathlib import Path\n",
    "\n",
    "from lightning import Trainer\n",
    "from lightning.pytorch.callbacks import ModelCheckpoint\n",
    "from lightning.pytorch.callbacks.lr_monitor import LearningRateMonitor\n",
    "from lightning.pytorch.callbacks.early_stopping import EarlyStopping\n",
    "\n",
    "CHECKPOINT_PATH = Path('../models')\n",
    "\n",
    "trainer = Trainer(\n",
    "        default_root_dir = CHECKPOINT_PATH,  # Where to save models\n",
    "        # We run on a single GPU (if possible)\n",
    "        accelerator=\"auto\",\n",
    "        devices=1,\n",
    "        precision=16,\n",
    "        # How many epochs to train for if no patience is set\n",
    "        max_epochs=10,\n",
    "        callbacks=[\n",
    "            ModelCheckpoint(\n",
    "                save_weights_only=True, mode=\"min\", monitor=\"val_loss\"\n",
    "            ),  # Save the best checkpoint based on the maximum val_acc recorded. Saves only weights and not optimizer\n",
    "            LearningRateMonitor(\"epoch\"),\n",
    "        ],  # Log learning rate every epoch\n",
    "    )  # In case your notebook crashes due to the progress bar, consider increasing the refresh rate\n",
    "trainer.logger._log_graph = True  # If True, we plot the computation graph in tensorboard\n",
    "trainer.logger._default_hp_metric = None  # Optional logging argument that we don't need"
   ]
  },
  {
   "cell_type": "code",
   "execution_count": null,
   "metadata": {},
   "outputs": [
    {
     "name": "stderr",
     "output_type": "stream",
     "text": [
      "LOCAL_RANK: 0 - CUDA_VISIBLE_DEVICES: [0]\n",
      "\n",
      "  | Name                | Type       | Params\n",
      "---------------------------------------------------\n",
      "0 | node_type_embedding | Embedding  | 630   \n",
      "1 | gnn_layers          | ModuleList | 132 K \n",
      "2 | output_head         | Sequential | 17.3 K\n",
      "---------------------------------------------------\n",
      "150 K     Trainable params\n",
      "0         Non-trainable params\n",
      "150 K     Total params\n",
      "0.600     Total estimated model params size (MB)\n"
     ]
    },
    {
     "data": {
      "application/vnd.jupyter.widget-view+json": {
       "model_id": "dc11d6e10c6148d9a59690de8cee74f6",
       "version_major": 2,
       "version_minor": 0
      },
      "text/plain": [
       "Sanity Checking: 0it [00:00, ?it/s]"
      ]
     },
     "metadata": {},
     "output_type": "display_data"
    }
   ],
   "source": [
    "from torch_geometric.loader import DataLoader\n",
    "batch_size = 32\n",
    "train_dataloader = DataLoader(train_dataset, batch_size=batch_size, drop_last=False, shuffle=True, num_workers=4)\n",
    "dev_dataloader = DataLoader(dev_dataset, batch_size=batch_size, drop_last=False, shuffle=False, num_workers=4)\n",
    "trainer.fit(model, train_dataloader, dev_dataloader)\n"
   ]
  },
  {
   "cell_type": "code",
   "execution_count": null,
   "metadata": {},
   "outputs": [
    {
     "name": "stderr",
     "output_type": "stream",
     "text": [
      "Restoring states from the checkpoint path at ../models/gnn_model.pt/lightning_logs/version_23/checkpoints/epoch=9-step=720.ckpt\n",
      "LOCAL_RANK: 0 - CUDA_VISIBLE_DEVICES: [0]\n",
      "Loaded model weights from the checkpoint at ../models/gnn_model.pt/lightning_logs/version_23/checkpoints/epoch=9-step=720.ckpt\n"
     ]
    },
    {
     "data": {
      "application/vnd.jupyter.widget-view+json": {
       "model_id": "ec15fb5d1c17479c9f066366a460152c",
       "version_major": 2,
       "version_minor": 0
      },
      "text/plain": [
       "Predicting: 0it [00:00, ?it/s]"
      ]
     },
     "metadata": {},
     "output_type": "display_data"
    }
   ],
   "source": [
    "test_dataloader = DataLoader(test_dataset, batch_size=32, drop_last=False, shuffle=False, num_workers=4)\n",
    "predictions = trainer.predict(dataloaders=test_dataloader)"
   ]
  },
  {
   "cell_type": "code",
   "execution_count": null,
   "metadata": {},
   "outputs": [],
   "source": [
    "predictions, targets = zip(*predictions)\n",
    "predictions = torch.cat(predictions)\n",
    "targets = torch.cat(targets)"
   ]
  },
  {
   "cell_type": "code",
   "execution_count": null,
   "metadata": {},
   "outputs": [
    {
     "data": {
      "image/png": "[encoded data removed]",
      "text/plain": [
       "<Figure size 640x480 with 2 Axes>"
      ]
     },
     "metadata": {},
     "output_type": "display_data"
    }
   ],
   "source": [
    "from sklearn.metrics import confusion_matrix, ConfusionMatrixDisplay\n",
    "import matplotlib.pyplot as plt\n",
    "major_confusion = confusion_matrix(predictions, targets)\n",
    "ConfusionMatrixDisplay(major_confusion).plot()\n",
    "plt.title(\"ISUP Grade confusion matrix\")\n",
    "plt.show()"
   ]
  }
 ],
 "metadata": {
  "kernelspec": {
   "display_name": "aida_workshop_gnn_v4",
   "language": "python",
   "name": "python3"
  },
  "language_info": {
   "codemirror_mode": {
    "name": "ipython",
    "version": 3
   },
   "file_extension": ".py",
   "mimetype": "text/x-python",
   "name": "python",
   "nbconvert_exporter": "python",
   "pygments_lexer": "ipython3",
   "version": "3.9.18"
  },
  "orig_nbformat": 4
 },
 "nbformat": 4,
 "nbformat_minor": 2
}
